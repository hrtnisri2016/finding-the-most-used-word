{
  "nbformat": 4,
  "nbformat_minor": 0,
  "metadata": {
    "colab": {
      "name": "[Fun Project] Find Frequently Used Words from My Personal Blog.ipynb",
      "provenance": [],
      "collapsed_sections": []
    },
    "kernelspec": {
      "name": "python3",
      "display_name": "Python 3"
    },
    "language_info": {
      "name": "python"
    }
  },
  "cells": [
    {
      "cell_type": "markdown",
      "source": [
        "# **Find Frequently Used Words from My Personal Blog**\n",
        "\n",
        "---\n",
        "It has been about a month since the last post on my personal blog, \"Untitled Door\". Now I am in the mood to write but have no idea what to write or where to start. At the same time, I wondered what the most frequent word that appears on my blog was, so I decided to find out. \n",
        "\n",
        "What is it, do you think?\n",
        "\n",
        "---\n",
        "\n"
      ],
      "metadata": {
        "id": "I418LRsbxAec"
      }
    },
    {
      "cell_type": "markdown",
      "source": [
        "First, let's import the `pandas` package because we will work with dataframes a lot."
      ],
      "metadata": {
        "id": "Wm0LeAeg0_cE"
      }
    },
    {
      "cell_type": "code",
      "execution_count": 43,
      "metadata": {
        "id": "g7G2tF1_TcPb"
      },
      "outputs": [],
      "source": [
        "import pandas as pd"
      ]
    },
    {
      "cell_type": "markdown",
      "source": [
        "I thought of doing web-scraping on my blog, but since I still don't know how, I collected the data manually. After all, there are only 42 published posts. It is faster to do it manually than to insist on applying the concept that I'm not sure of yet. I'll just keep web scraping as my next project to do for now. \n",
        "\n",
        "I keep the data in tabular form, consisting of the information about my post's title `\"title\"`, its category `\"category\"`, its publish date `\"publish_date\"`, and its content `\"blog_post\"`."
      ],
      "metadata": {
        "id": "6hsrjSiB1Pxb"
      }
    },
    {
      "cell_type": "code",
      "source": [
        "df = pd.read_csv('untitledoor_blog_post.csv')\n",
        "df.head()"
      ],
      "metadata": {
        "id": "yq3xLbbzT83j",
        "colab": {
          "base_uri": "https://localhost:8080/",
          "height": 337
        },
        "outputId": "05702b90-d043-4737-9e24-e44894340654"
      },
      "execution_count": 44,
      "outputs": [
        {
          "output_type": "execute_result",
          "data": {
            "text/plain": [
              "                                               title           category  \\\n",
              "0       Kamu tidak perlu khawatir tentang perasaanku  untitledoorseries   \n",
              "1                    Perasaan yang ingin kuungkapkan  untitledoorseries   \n",
              "2                         Malam itu, saat dia pulang  untitledoorseries   \n",
              "3  Bahkan meskipun kamu bukan siapa-siapa, kamu t...         untuk: aku   \n",
              "4  Ketika wanita dalam dekapan pria yang mencinta...            favorit   \n",
              "\n",
              "  publish_date                                          blog_post  \n",
              "0    6/20/2022  Sekarang aku sadar, aku tidak mencintaimu deng...  \n",
              "1    6/16/2022  Duduk berdampingan denganmu sudah cukup untuk ...  \n",
              "2    6/14/2022  Malam itu, saat hatiku sedikit tergerak padamu...  \n",
              "3     6/9/2022  “Kalau kamu masih terbangun esok hari, apa yan...  \n",
              "4    9/10/2021  “Satu orang istimewa sudah cukup rasanya untuk...  "
            ],
            "text/html": [
              "\n",
              "  <div id=\"df-f219a0c7-1fb5-4039-b92c-d21f590596e1\">\n",
              "    <div class=\"colab-df-container\">\n",
              "      <div>\n",
              "<style scoped>\n",
              "    .dataframe tbody tr th:only-of-type {\n",
              "        vertical-align: middle;\n",
              "    }\n",
              "\n",
              "    .dataframe tbody tr th {\n",
              "        vertical-align: top;\n",
              "    }\n",
              "\n",
              "    .dataframe thead th {\n",
              "        text-align: right;\n",
              "    }\n",
              "</style>\n",
              "<table border=\"1\" class=\"dataframe\">\n",
              "  <thead>\n",
              "    <tr style=\"text-align: right;\">\n",
              "      <th></th>\n",
              "      <th>title</th>\n",
              "      <th>category</th>\n",
              "      <th>publish_date</th>\n",
              "      <th>blog_post</th>\n",
              "    </tr>\n",
              "  </thead>\n",
              "  <tbody>\n",
              "    <tr>\n",
              "      <th>0</th>\n",
              "      <td>Kamu tidak perlu khawatir tentang perasaanku</td>\n",
              "      <td>untitledoorseries</td>\n",
              "      <td>6/20/2022</td>\n",
              "      <td>Sekarang aku sadar, aku tidak mencintaimu deng...</td>\n",
              "    </tr>\n",
              "    <tr>\n",
              "      <th>1</th>\n",
              "      <td>Perasaan yang ingin kuungkapkan</td>\n",
              "      <td>untitledoorseries</td>\n",
              "      <td>6/16/2022</td>\n",
              "      <td>Duduk berdampingan denganmu sudah cukup untuk ...</td>\n",
              "    </tr>\n",
              "    <tr>\n",
              "      <th>2</th>\n",
              "      <td>Malam itu, saat dia pulang</td>\n",
              "      <td>untitledoorseries</td>\n",
              "      <td>6/14/2022</td>\n",
              "      <td>Malam itu, saat hatiku sedikit tergerak padamu...</td>\n",
              "    </tr>\n",
              "    <tr>\n",
              "      <th>3</th>\n",
              "      <td>Bahkan meskipun kamu bukan siapa-siapa, kamu t...</td>\n",
              "      <td>untuk: aku</td>\n",
              "      <td>6/9/2022</td>\n",
              "      <td>“Kalau kamu masih terbangun esok hari, apa yan...</td>\n",
              "    </tr>\n",
              "    <tr>\n",
              "      <th>4</th>\n",
              "      <td>Ketika wanita dalam dekapan pria yang mencinta...</td>\n",
              "      <td>favorit</td>\n",
              "      <td>9/10/2021</td>\n",
              "      <td>“Satu orang istimewa sudah cukup rasanya untuk...</td>\n",
              "    </tr>\n",
              "  </tbody>\n",
              "</table>\n",
              "</div>\n",
              "      <button class=\"colab-df-convert\" onclick=\"convertToInteractive('df-f219a0c7-1fb5-4039-b92c-d21f590596e1')\"\n",
              "              title=\"Convert this dataframe to an interactive table.\"\n",
              "              style=\"display:none;\">\n",
              "        \n",
              "  <svg xmlns=\"http://www.w3.org/2000/svg\" height=\"24px\"viewBox=\"0 0 24 24\"\n",
              "       width=\"24px\">\n",
              "    <path d=\"M0 0h24v24H0V0z\" fill=\"none\"/>\n",
              "    <path d=\"M18.56 5.44l.94 2.06.94-2.06 2.06-.94-2.06-.94-.94-2.06-.94 2.06-2.06.94zm-11 1L8.5 8.5l.94-2.06 2.06-.94-2.06-.94L8.5 2.5l-.94 2.06-2.06.94zm10 10l.94 2.06.94-2.06 2.06-.94-2.06-.94-.94-2.06-.94 2.06-2.06.94z\"/><path d=\"M17.41 7.96l-1.37-1.37c-.4-.4-.92-.59-1.43-.59-.52 0-1.04.2-1.43.59L10.3 9.45l-7.72 7.72c-.78.78-.78 2.05 0 2.83L4 21.41c.39.39.9.59 1.41.59.51 0 1.02-.2 1.41-.59l7.78-7.78 2.81-2.81c.8-.78.8-2.07 0-2.86zM5.41 20L4 18.59l7.72-7.72 1.47 1.35L5.41 20z\"/>\n",
              "  </svg>\n",
              "      </button>\n",
              "      \n",
              "  <style>\n",
              "    .colab-df-container {\n",
              "      display:flex;\n",
              "      flex-wrap:wrap;\n",
              "      gap: 12px;\n",
              "    }\n",
              "\n",
              "    .colab-df-convert {\n",
              "      background-color: #E8F0FE;\n",
              "      border: none;\n",
              "      border-radius: 50%;\n",
              "      cursor: pointer;\n",
              "      display: none;\n",
              "      fill: #1967D2;\n",
              "      height: 32px;\n",
              "      padding: 0 0 0 0;\n",
              "      width: 32px;\n",
              "    }\n",
              "\n",
              "    .colab-df-convert:hover {\n",
              "      background-color: #E2EBFA;\n",
              "      box-shadow: 0px 1px 2px rgba(60, 64, 67, 0.3), 0px 1px 3px 1px rgba(60, 64, 67, 0.15);\n",
              "      fill: #174EA6;\n",
              "    }\n",
              "\n",
              "    [theme=dark] .colab-df-convert {\n",
              "      background-color: #3B4455;\n",
              "      fill: #D2E3FC;\n",
              "    }\n",
              "\n",
              "    [theme=dark] .colab-df-convert:hover {\n",
              "      background-color: #434B5C;\n",
              "      box-shadow: 0px 1px 3px 1px rgba(0, 0, 0, 0.15);\n",
              "      filter: drop-shadow(0px 1px 2px rgba(0, 0, 0, 0.3));\n",
              "      fill: #FFFFFF;\n",
              "    }\n",
              "  </style>\n",
              "\n",
              "      <script>\n",
              "        const buttonEl =\n",
              "          document.querySelector('#df-f219a0c7-1fb5-4039-b92c-d21f590596e1 button.colab-df-convert');\n",
              "        buttonEl.style.display =\n",
              "          google.colab.kernel.accessAllowed ? 'block' : 'none';\n",
              "\n",
              "        async function convertToInteractive(key) {\n",
              "          const element = document.querySelector('#df-f219a0c7-1fb5-4039-b92c-d21f590596e1');\n",
              "          const dataTable =\n",
              "            await google.colab.kernel.invokeFunction('convertToInteractive',\n",
              "                                                     [key], {});\n",
              "          if (!dataTable) return;\n",
              "\n",
              "          const docLinkHtml = 'Like what you see? Visit the ' +\n",
              "            '<a target=\"_blank\" href=https://colab.research.google.com/notebooks/data_table.ipynb>data table notebook</a>'\n",
              "            + ' to learn more about interactive tables.';\n",
              "          element.innerHTML = '';\n",
              "          dataTable['output_type'] = 'display_data';\n",
              "          await google.colab.output.renderOutput(dataTable, element);\n",
              "          const docLink = document.createElement('div');\n",
              "          docLink.innerHTML = docLinkHtml;\n",
              "          element.appendChild(docLink);\n",
              "        }\n",
              "      </script>\n",
              "    </div>\n",
              "  </div>\n",
              "  "
            ]
          },
          "metadata": {},
          "execution_count": 44
        }
      ]
    },
    {
      "cell_type": "markdown",
      "source": [
        "Let's see how many posts are in each category. "
      ],
      "metadata": {
        "id": "ps55SMSM3NQr"
      }
    },
    {
      "cell_type": "code",
      "source": [
        "df[['category']].value_counts()"
      ],
      "metadata": {
        "colab": {
          "base_uri": "https://localhost:8080/"
        },
        "id": "ptH-8qGBXpxm",
        "outputId": "85c3ec82-8cc8-44a3-b646-40c2e7d75124"
      },
      "execution_count": 45,
      "outputs": [
        {
          "output_type": "execute_result",
          "data": {
            "text/plain": [
              "category         \n",
              "untitledoorseries    24\n",
              "untuk: aku           10\n",
              "favorit               8\n",
              "dtype: int64"
            ]
          },
          "metadata": {},
          "execution_count": 45
        }
      ]
    },
    {
      "cell_type": "markdown",
      "source": [
        "It seems my favorite `untitledoorseries` category holds the most of my blog contents. I actually write far more than that. It's just that the few pieces of writing that I produce don't always live up to my standards. \n",
        "\n",
        "Uh-hm. Ok, fine. It does sound like an excuse. "
      ],
      "metadata": {
        "id": "0Cucjrmw4z1P"
      }
    },
    {
      "cell_type": "markdown",
      "source": [
        "NEXT.\n",
        "\n",
        "I want to start right away by showing you the first content of my latest post in the blog, which is in the first row of the dataframe. But you might wonder, how can I know? Well, I'm the author of the blog, and I collected the data from the latest to the older post. So, I know.\n",
        "\n",
        "\n",
        "However, we can also check if this is true or not by using a few lines of code. "
      ],
      "metadata": {
        "id": "xwvNl_nH66MR"
      }
    },
    {
      "cell_type": "code",
      "source": [
        "# first let's check our dataframe\n",
        "df.info()"
      ],
      "metadata": {
        "colab": {
          "base_uri": "https://localhost:8080/"
        },
        "id": "r7nfGdax5tIE",
        "outputId": "6edb5d8f-0a0a-4d9c-f73c-c160e24a2c7a"
      },
      "execution_count": 46,
      "outputs": [
        {
          "output_type": "stream",
          "name": "stdout",
          "text": [
            "<class 'pandas.core.frame.DataFrame'>\n",
            "RangeIndex: 42 entries, 0 to 41\n",
            "Data columns (total 4 columns):\n",
            " #   Column        Non-Null Count  Dtype \n",
            "---  ------        --------------  ----- \n",
            " 0   title         42 non-null     object\n",
            " 1   category      42 non-null     object\n",
            " 2   publish_date  42 non-null     object\n",
            " 3   blog_post     42 non-null     object\n",
            "dtypes: object(4)\n",
            "memory usage: 1.4+ KB\n"
          ]
        }
      ]
    },
    {
      "cell_type": "code",
      "source": [
        "# The 'publish date' column still has an object type. \n",
        "# I will change it to datetime first, so the result won't give us a wrong answer.\n",
        "df['publish_date'] = pd.to_datetime(df['publish_date'])\n",
        "df.info()"
      ],
      "metadata": {
        "colab": {
          "base_uri": "https://localhost:8080/"
        },
        "id": "s3tJwvWp8DLE",
        "outputId": "48178855-cbbf-427d-b31c-c4111ec0ee0e"
      },
      "execution_count": 47,
      "outputs": [
        {
          "output_type": "stream",
          "name": "stdout",
          "text": [
            "<class 'pandas.core.frame.DataFrame'>\n",
            "RangeIndex: 42 entries, 0 to 41\n",
            "Data columns (total 4 columns):\n",
            " #   Column        Non-Null Count  Dtype         \n",
            "---  ------        --------------  -----         \n",
            " 0   title         42 non-null     object        \n",
            " 1   category      42 non-null     object        \n",
            " 2   publish_date  42 non-null     datetime64[ns]\n",
            " 3   blog_post     42 non-null     object        \n",
            "dtypes: datetime64[ns](1), object(3)\n",
            "memory usage: 1.4+ KB\n"
          ]
        }
      ]
    },
    {
      "cell_type": "markdown",
      "source": [
        "This line of code below gives you the row of dataframe `df` where the value from the `publish_date` column matches the maximum date (the latest post). "
      ],
      "metadata": {
        "id": "Jz1iLUaz90jO"
      }
    },
    {
      "cell_type": "code",
      "source": [
        "# Let's see if I'm right\n",
        "df[df.publish_date == df.publish_date.max()]"
      ],
      "metadata": {
        "colab": {
          "base_uri": "https://localhost:8080/",
          "height": 142
        },
        "id": "bdWVZbTt6fqH",
        "outputId": "82b0904c-c60b-4182-aab8-b5d71d9aed5d"
      },
      "execution_count": 48,
      "outputs": [
        {
          "output_type": "execute_result",
          "data": {
            "text/plain": [
              "                                          title           category  \\\n",
              "0  Kamu tidak perlu khawatir tentang perasaanku  untitledoorseries   \n",
              "\n",
              "  publish_date                                          blog_post  \n",
              "0   2022-06-20  Sekarang aku sadar, aku tidak mencintaimu deng...  "
            ],
            "text/html": [
              "\n",
              "  <div id=\"df-e75c480c-8bc2-4c75-b61d-034dfadf4c5c\">\n",
              "    <div class=\"colab-df-container\">\n",
              "      <div>\n",
              "<style scoped>\n",
              "    .dataframe tbody tr th:only-of-type {\n",
              "        vertical-align: middle;\n",
              "    }\n",
              "\n",
              "    .dataframe tbody tr th {\n",
              "        vertical-align: top;\n",
              "    }\n",
              "\n",
              "    .dataframe thead th {\n",
              "        text-align: right;\n",
              "    }\n",
              "</style>\n",
              "<table border=\"1\" class=\"dataframe\">\n",
              "  <thead>\n",
              "    <tr style=\"text-align: right;\">\n",
              "      <th></th>\n",
              "      <th>title</th>\n",
              "      <th>category</th>\n",
              "      <th>publish_date</th>\n",
              "      <th>blog_post</th>\n",
              "    </tr>\n",
              "  </thead>\n",
              "  <tbody>\n",
              "    <tr>\n",
              "      <th>0</th>\n",
              "      <td>Kamu tidak perlu khawatir tentang perasaanku</td>\n",
              "      <td>untitledoorseries</td>\n",
              "      <td>2022-06-20</td>\n",
              "      <td>Sekarang aku sadar, aku tidak mencintaimu deng...</td>\n",
              "    </tr>\n",
              "  </tbody>\n",
              "</table>\n",
              "</div>\n",
              "      <button class=\"colab-df-convert\" onclick=\"convertToInteractive('df-e75c480c-8bc2-4c75-b61d-034dfadf4c5c')\"\n",
              "              title=\"Convert this dataframe to an interactive table.\"\n",
              "              style=\"display:none;\">\n",
              "        \n",
              "  <svg xmlns=\"http://www.w3.org/2000/svg\" height=\"24px\"viewBox=\"0 0 24 24\"\n",
              "       width=\"24px\">\n",
              "    <path d=\"M0 0h24v24H0V0z\" fill=\"none\"/>\n",
              "    <path d=\"M18.56 5.44l.94 2.06.94-2.06 2.06-.94-2.06-.94-.94-2.06-.94 2.06-2.06.94zm-11 1L8.5 8.5l.94-2.06 2.06-.94-2.06-.94L8.5 2.5l-.94 2.06-2.06.94zm10 10l.94 2.06.94-2.06 2.06-.94-2.06-.94-.94-2.06-.94 2.06-2.06.94z\"/><path d=\"M17.41 7.96l-1.37-1.37c-.4-.4-.92-.59-1.43-.59-.52 0-1.04.2-1.43.59L10.3 9.45l-7.72 7.72c-.78.78-.78 2.05 0 2.83L4 21.41c.39.39.9.59 1.41.59.51 0 1.02-.2 1.41-.59l7.78-7.78 2.81-2.81c.8-.78.8-2.07 0-2.86zM5.41 20L4 18.59l7.72-7.72 1.47 1.35L5.41 20z\"/>\n",
              "  </svg>\n",
              "      </button>\n",
              "      \n",
              "  <style>\n",
              "    .colab-df-container {\n",
              "      display:flex;\n",
              "      flex-wrap:wrap;\n",
              "      gap: 12px;\n",
              "    }\n",
              "\n",
              "    .colab-df-convert {\n",
              "      background-color: #E8F0FE;\n",
              "      border: none;\n",
              "      border-radius: 50%;\n",
              "      cursor: pointer;\n",
              "      display: none;\n",
              "      fill: #1967D2;\n",
              "      height: 32px;\n",
              "      padding: 0 0 0 0;\n",
              "      width: 32px;\n",
              "    }\n",
              "\n",
              "    .colab-df-convert:hover {\n",
              "      background-color: #E2EBFA;\n",
              "      box-shadow: 0px 1px 2px rgba(60, 64, 67, 0.3), 0px 1px 3px 1px rgba(60, 64, 67, 0.15);\n",
              "      fill: #174EA6;\n",
              "    }\n",
              "\n",
              "    [theme=dark] .colab-df-convert {\n",
              "      background-color: #3B4455;\n",
              "      fill: #D2E3FC;\n",
              "    }\n",
              "\n",
              "    [theme=dark] .colab-df-convert:hover {\n",
              "      background-color: #434B5C;\n",
              "      box-shadow: 0px 1px 3px 1px rgba(0, 0, 0, 0.15);\n",
              "      filter: drop-shadow(0px 1px 2px rgba(0, 0, 0, 0.3));\n",
              "      fill: #FFFFFF;\n",
              "    }\n",
              "  </style>\n",
              "\n",
              "      <script>\n",
              "        const buttonEl =\n",
              "          document.querySelector('#df-e75c480c-8bc2-4c75-b61d-034dfadf4c5c button.colab-df-convert');\n",
              "        buttonEl.style.display =\n",
              "          google.colab.kernel.accessAllowed ? 'block' : 'none';\n",
              "\n",
              "        async function convertToInteractive(key) {\n",
              "          const element = document.querySelector('#df-e75c480c-8bc2-4c75-b61d-034dfadf4c5c');\n",
              "          const dataTable =\n",
              "            await google.colab.kernel.invokeFunction('convertToInteractive',\n",
              "                                                     [key], {});\n",
              "          if (!dataTable) return;\n",
              "\n",
              "          const docLinkHtml = 'Like what you see? Visit the ' +\n",
              "            '<a target=\"_blank\" href=https://colab.research.google.com/notebooks/data_table.ipynb>data table notebook</a>'\n",
              "            + ' to learn more about interactive tables.';\n",
              "          element.innerHTML = '';\n",
              "          dataTable['output_type'] = 'display_data';\n",
              "          await google.colab.output.renderOutput(dataTable, element);\n",
              "          const docLink = document.createElement('div');\n",
              "          docLink.innerHTML = docLinkHtml;\n",
              "          element.appendChild(docLink);\n",
              "        }\n",
              "      </script>\n",
              "    </div>\n",
              "  </div>\n",
              "  "
            ]
          },
          "metadata": {},
          "execution_count": 48
        }
      ]
    },
    {
      "cell_type": "markdown",
      "source": [
        "As I said before, the latest post is in the first row of the dataframe. \n",
        "\n",
        "Now, let me work on one line of string at a time to figure out how to do it for the overall rows of blog posts. "
      ],
      "metadata": {
        "id": "KEvNo734-nGh"
      }
    },
    {
      "cell_type": "code",
      "source": [
        "sample_line = df.loc[0, 'blog_post']\n",
        "sample_line"
      ],
      "metadata": {
        "colab": {
          "base_uri": "https://localhost:8080/",
          "height": 209
        },
        "id": "F9-anZx6_Y0i",
        "outputId": "804a6f71-37cb-4fe2-cf7e-193ad9b410c9"
      },
      "execution_count": 49,
      "outputs": [
        {
          "output_type": "execute_result",
          "data": {
            "text/plain": [
              "'Sekarang aku sadar, aku tidak mencintaimu dengan maksud memilikimu. Aku mencintaimu, dan masih akan tetap mencintai kamu, karena aku tau bahwa dengan cara itu aku terus memperbaiki diri. Karena aku tau bahwa aku bisa menjadi aku yang lebih baik dalam banyak hal setiap hari. Dan karena itu, kamu tidak perlu khawatir untuk balik mencintaiku. Kamu berhak untuk jatuh cinta pada siapa saja. Atau memilih untuk tidak jatuh cinta pada siapa-siapa. Kamu berhak untuk memilih kekasih yang akan kamu bawa hidup bersama. Atau memilih sendiri karena ingin fokus mengembangkan hidupmu dulu saja. Kamu berhak atas itu semua, dan aku masih akan baik-baik saja. Karena aku pun tidak pernah berdoa agar kamu adalah satu-satunya. Karena aku sepercaya itu bahwa Tuhan lebih tau yang terbaik untuk segalanya. Dan karena itu, orang itu tidak harus kamu. Aku mencintaimu. Tentu. Tapi tentang apakah kamu juga mencintaiku atau tidak, itu di luar kuasaku. Akan kunyatakan perasaan saat kesempatan yang tepat itu datang. Namun kalaupun kesempatan itu tak pernah ada, atau ada tapi kamu memilih menolakku dengan alasan yang sama, akan kuanggap itu sebagai cara Tuhan untuk bilang, you’re not the one. ;'"
            ],
            "application/vnd.google.colaboratory.intrinsic+json": {
              "type": "string"
            }
          },
          "metadata": {},
          "execution_count": 49
        }
      ]
    },
    {
      "cell_type": "code",
      "source": [
        "word_counts = dict()\n",
        "word_list = sample_line.split()\n",
        "for word in word_list:\n",
        "  word_counts[word] = word_counts.get(word, 0) + 1\n",
        "  \n",
        "print(word_counts)"
      ],
      "metadata": {
        "colab": {
          "base_uri": "https://localhost:8080/"
        },
        "id": "5dHT5xy1_xsq",
        "outputId": "86207d11-13b4-4a04-875d-ee97ef228b57"
      },
      "execution_count": 50,
      "outputs": [
        {
          "output_type": "stream",
          "name": "stdout",
          "text": [
            "{'Sekarang': 1, 'aku': 10, 'sadar,': 1, 'tidak': 5, 'mencintaimu': 1, 'dengan': 3, 'maksud': 1, 'memilikimu.': 1, 'Aku': 2, 'mencintaimu,': 1, 'dan': 2, 'masih': 2, 'akan': 4, 'tetap': 1, 'mencintai': 1, 'kamu,': 1, 'karena': 4, 'tau': 3, 'bahwa': 3, 'cara': 2, 'itu': 8, 'terus': 1, 'memperbaiki': 1, 'diri.': 1, 'Karena': 3, 'bisa': 1, 'menjadi': 1, 'yang': 5, 'lebih': 2, 'baik': 1, 'dalam': 1, 'banyak': 1, 'hal': 1, 'setiap': 1, 'hari.': 1, 'Dan': 2, 'itu,': 2, 'kamu': 5, 'perlu': 1, 'khawatir': 1, 'untuk': 6, 'balik': 1, 'mencintaiku.': 1, 'Kamu': 3, 'berhak': 3, 'jatuh': 2, 'cinta': 2, 'pada': 2, 'siapa': 1, 'saja.': 3, 'Atau': 2, 'memilih': 4, 'siapa-siapa.': 1, 'kekasih': 1, 'bawa': 1, 'hidup': 1, 'bersama.': 1, 'sendiri': 1, 'ingin': 1, 'fokus': 1, 'mengembangkan': 1, 'hidupmu': 1, 'dulu': 1, 'atas': 1, 'semua,': 1, 'baik-baik': 1, 'pun': 1, 'pernah': 2, 'berdoa': 1, 'agar': 1, 'adalah': 1, 'satu-satunya.': 1, 'sepercaya': 1, 'Tuhan': 2, 'terbaik': 1, 'segalanya.': 1, 'orang': 1, 'harus': 1, 'kamu.': 1, 'mencintaimu.': 1, 'Tentu.': 1, 'Tapi': 1, 'tentang': 1, 'apakah': 1, 'juga': 1, 'mencintaiku': 1, 'atau': 2, 'tidak,': 1, 'di': 1, 'luar': 1, 'kuasaku.': 1, 'Akan': 1, 'kunyatakan': 1, 'perasaan': 1, 'saat': 1, 'kesempatan': 2, 'tepat': 1, 'datang.': 1, 'Namun': 1, 'kalaupun': 1, 'tak': 1, 'ada,': 1, 'ada': 1, 'tapi': 1, 'menolakku': 1, 'alasan': 1, 'sama,': 1, 'kuanggap': 1, 'sebagai': 1, 'bilang,': 1, 'you’re': 1, 'not': 1, 'the': 1, 'one.': 1, ';': 1}\n"
          ]
        }
      ]
    },
    {
      "cell_type": "markdown",
      "source": [
        "I use the split method to split a string into a list of words. Then I utilize a dictionary to keep records about how many of every word that it encounters along the way of iterating the list. \n",
        "\n"
      ],
      "metadata": {
        "id": "PWasGJpjAHHJ"
      }
    },
    {
      "cell_type": "markdown",
      "source": [
        "However, if you are someone like me, who understands Bahasa Indonesia, you will notice several flaws in those simple lines of code. Therefore:\n",
        "\n",
        "*   I would treat `\"Sekarang\"` and `\"sekarang\"` words as the same. Hence, I need to lowercase all of the words. \n",
        "*   `\"mencintaimu.\"` and `\"mencintaimu\"` would also be the same word. Hence, I need to ignore every punctuation mark on the string.\n",
        "*   Furthermore, `\"mencintaimu\"` is basically just a word \"mencintai\" with the suffix \"-mu\", which has the same meaning as `\"mencintai kamu\"`. So I would rewrite every word that ends with \"-mu\" into \"word\" + \"kamu\". However, to be sure I am not changing a wrong word in this formula, I would do an additional check to see if there is any word that I need to ignore for this matter.\n",
        "*   The same rule also applies to the suffix \"-ku\", which can be rewritten into \"word\" + \"aku\", except for a few words as an exception.\n",
        "*   There is also the word `\"kunyatakan\"`, which can be rewritten as `\"aku nyatakan\"`. It means every word with the prefix \"ku-\" would be rewritten as \"aku\" + \"word\", except for a few words as an exception."
      ],
      "metadata": {
        "id": "wI5ag0rhEwFy"
      }
    },
    {
      "cell_type": "markdown",
      "source": [
        "To resolve the latter three problems above, I collect every word that is counted after lowering case and removing punctuation."
      ],
      "metadata": {
        "id": "-pc0zZppHp_R"
      }
    },
    {
      "cell_type": "code",
      "source": [
        "# lowercase every blog post\n",
        "df[\"blog_post\"] = df[\"blog_post\"].apply(str.lower)\n",
        "# remove all punctuation marks\n",
        "df[\"blog_post\"] = df[\"blog_post\"].replace('[^\\w\\s]', '', regex=True)\n",
        "# split every string in the blog_post column into a list of words\n",
        "df[\"blog_post\"] = df[\"blog_post\"].apply(str.split)\n",
        "# see changes\n",
        "df[\"blog_post\"].head()"
      ],
      "metadata": {
        "colab": {
          "base_uri": "https://localhost:8080/"
        },
        "id": "jq5kZicnIVrd",
        "outputId": "6f137489-a8ce-4b70-f4e9-bd12fbf88c10"
      },
      "execution_count": 51,
      "outputs": [
        {
          "output_type": "execute_result",
          "data": {
            "text/plain": [
              "0    [sekarang, aku, sadar, aku, tidak, mencintaimu...\n",
              "1    [duduk, berdampingan, denganmu, sudah, cukup, ...\n",
              "2    [malam, itu, saat, hatiku, sedikit, tergerak, ...\n",
              "3    [kalau, kamu, masih, terbangun, esok, hari, ap...\n",
              "4    [satu, orang, istimewa, sudah, cukup, rasanya,...\n",
              "Name: blog_post, dtype: object"
            ]
          },
          "metadata": {},
          "execution_count": 51
        }
      ]
    },
    {
      "cell_type": "code",
      "source": [
        "word_counts = dict()\n",
        "for index, row in df.iterrows():\n",
        "  for word in row[\"blog_post\"]:\n",
        "    word_counts[word] = word_counts.get(word, 0) + 1\n",
        "\n",
        "print(word_counts)"
      ],
      "metadata": {
        "colab": {
          "base_uri": "https://localhost:8080/"
        },
        "id": "wZeEZOLbLi81",
        "outputId": "6fcf2fc8-9ee3-414b-db2a-f0e99f2ecea0"
      },
      "execution_count": 52,
      "outputs": [
        {
          "output_type": "stream",
          "name": "stdout",
          "text": [
            "{'sekarang': 32, 'aku': 504, 'sadar': 13, 'tidak': 267, 'mencintaimu': 28, 'dengan': 86, 'maksud': 2, 'memilikimu': 1, 'dan': 184, 'masih': 56, 'akan': 98, 'tetap': 26, 'mencintai': 7, 'kamu': 344, 'karena': 88, 'tau': 20, 'bahwa': 76, 'cara': 13, 'itu': 159, 'terus': 38, 'memperbaiki': 2, 'diri': 20, 'bisa': 80, 'menjadi': 36, 'yang': 484, 'lebih': 46, 'baik': 27, 'dalam': 47, 'banyak': 34, 'hal': 30, 'setiap': 10, 'hari': 50, 'perlu': 25, 'khawatir': 8, 'untuk': 113, 'balik': 4, 'mencintaiku': 3, 'berhak': 9, 'jatuh': 35, 'cinta': 35, 'pada': 44, 'siapa': 9, 'saja': 82, 'atau': 28, 'memilih': 11, 'siapasiapa': 4, 'kekasih': 1, 'bawa': 5, 'hidup': 45, 'bersama': 18, 'sendiri': 28, 'ingin': 43, 'fokus': 2, 'mengembangkan': 1, 'hidupmu': 8, 'dulu': 16, 'atas': 22, 'semua': 40, 'baikbaik': 15, 'pun': 39, 'pernah': 65, 'berdoa': 2, 'agar': 22, 'adalah': 43, 'satusatunya': 5, 'sepercaya': 1, 'tuhan': 31, 'terbaik': 10, 'segalanya': 8, 'orang': 83, 'harus': 25, 'tentu': 10, 'tapi': 85, 'tentang': 18, 'apakah': 16, 'juga': 57, 'di': 154, 'luar': 2, 'kuasaku': 1, 'kunyatakan': 1, 'perasaan': 14, 'saat': 54, 'kesempatan': 9, 'tepat': 5, 'datang': 18, 'namun': 27, 'kalaupun': 1, 'tak': 55, 'ada': 98, 'menolakku': 1, 'alasan': 12, 'sama': 35, 'kuanggap': 1, 'sebagai': 18, 'bilang': 12, 'youre': 1, 'not': 1, 'the': 1, 'one': 1, 'duduk': 15, 'berdampingan': 1, 'denganmu': 3, 'sudah': 83, 'cukup': 28, 'membuat': 19, 'merasa': 23, 'paling': 18, 'beruntung': 4, 'awalnya': 2, 'hanya': 82, 'sebuah': 9, 'nama': 2, 'biasa': 9, 'dengar': 3, 'dari': 56, 'seorang': 18, 'teman': 3, 'amat': 2, 'kagumi': 1, 'diam': 9, 'bertahuntahun': 5, 'berani': 3, 'lihat': 9, 'kejauhan': 5, 'selama': 16, 'waktuwaktu': 1, 'hanyalah': 12, 'penggemar': 1, 'kenal': 2, 'sikap': 1, 'ramahmu': 1, 'jualah': 1, 'membentuk': 1, 'membuatku': 12, 'kita': 139, 'mengenal': 2, 'lama': 28, 'bahkan': 16, 'kali': 24, 'pertama': 5, 'memberanikan': 1, 'bicara': 8, 'bersabar': 3, 'mampu': 10, 'mengutarakan': 1, 'isi': 3, 'pikiranku': 7, 'benar': 22, 'ajak': 1, 'bercanda': 1, 'bagaimana': 24, 'caranya': 5, 'melanjutkan': 3, 'percakapan': 1, 'kala': 5, 'tibatiba': 12, 'menghilang': 3, 'pikir': 7, 'lagi': 82, 'punya': 21, 'menyatakan': 2, 'pendam': 2, 'tanpa': 42, 'satupun': 2, 'kabar': 6, 'tahuntahun': 3, 'lalui': 2, 'terasa': 12, 'sepenuhnya': 3, 'menyenangkan': 3, 'sampai': 19, 'akhirnya': 14, 'sosokmu': 1, 'kembali': 40, 'pulang': 10, 'dimana': 14, 'melihatmu': 7, 'membahagiakan': 4, 'ragu': 5, 'menyapamu': 1, 'sementara': 11, 'berhasil': 1, 'berpikir': 14, 'pergi': 33, 'kini': 9, 'berarti': 5, 'sini': 7, 'izinkan': 1, 'mengungkapkannya': 1, 'malam': 15, 'hatiku': 23, 'sedikit': 14, 'tergerak': 3, 'padamu': 28, 'meragu': 1, 'datangnya': 1, 'ini': 94, 'benarkah': 1, 'sepanjang': 6, 'jalan': 22, 'panjang': 7, 'ternyata': 7, 'bertemu': 17, 'dia': 119, 'berdebar': 4, 'kerasnya': 1, 'seperti': 37, 'apa': 80, 'selain': 4, 'padanya': 7, 'tersenyum': 13, 'melambaikan': 1, 'tangan': 11, 'menyapaku': 1, 'sebelumnya': 5, 'kulalui': 1, 'tanpanya': 2, 'apaapanya': 1, 'oh': 4, 'hati': 35, 'kenapa': 13, 'protesku': 1, 'dapati': 1, 'justru': 12, 'pelukan': 1, 'ucap': 1, 'halus': 1, 'lagilagi': 1, 'raguku': 1, 'untukmu': 11, 'jelas': 3, 'alasannya': 1, 'ruang': 3, 'untuknya': 3, 'kalau': 15, 'terbangun': 2, 'esok': 6, 'katakan': 9, 'dirimu': 5, 'pengen': 3, 'mereka': 36, 'sayang': 5, 'meskipun': 12, 'bukan': 41, 'anak': 1, 'terpintar': 1, 'kelas': 1, 'gak': 15, 'hadiah': 1, 'sehabis': 1, 'berlomba': 1, 'diberangkatkan': 1, 'kemanamana': 1, 'sekolah': 2, 'lulusan': 1, 'universitas': 1, 'lanjut': 1, 'kuliah': 1, 's2': 1, 'gaji': 1, 'puluhpuluhan': 1, 'juta': 1, 'dicintai': 4, 'adanya': 4, 'tahu': 53, 'seberapa': 13, 'sulitnya': 1, 'katakata': 1, 'percaya': 19, 'keras': 6, 'selalu': 28, 'berusaha': 4, 'ngasih': 1, 'semampu': 1, 'sering': 6, 'mengorbankan': 1, 'lain': 24, 'sakit': 3, 'tahan': 1, 'berharap': 8, 'terlalu': 25, 'nyalahin': 1, 'sesuatu': 20, 'berjalan': 14, 'sesuai': 2, 'mau': 20, 'bersalah': 2, 'belum': 15, 'memenuhi': 2, 'harapanharapan': 1, 'sekitar': 2, 'malu': 1, 'jadi': 44, 'cintanya': 3, 'aja': 1, 'satu': 27, 'istimewa': 1, 'rasanya': 13, 'hariku': 4, 'pagi': 6, 'semangat': 7, 'tidur': 1, 'bahagia': 25, 'membayangkan': 2, 'sosok': 8, 'bagian': 1, 'biasanya': 9, 'berisi': 1, 'rasa': 29, 'lelah': 2, 'setelah': 14, 'bekerja': 2, 'seharian': 1, 'beruntungnya': 2, 'hadirmu': 2, 'pemeran': 1, 'utama': 1, 'imajinasikan': 1, 'selamat': 4, 'duniaku': 1, 'semoga': 3, 'betah': 2, 'waktu': 21, 'sangat': 9, 'tulisku': 1, 'ketika': 12, 'sengaja': 5, 'menatap': 5, 'mata': 10, 'wanita': 7, 'sedang': 23, 'tergilagila': 1, 'pria': 23, 'peluknya': 1, 'jika': 43, 'barangkali': 5, 'hampa': 2, 'coba': 5, 'tutup': 1, 'matamu': 4, 'sebentar': 6, 'hitung': 1, 'nikmat': 2, 'karuniakan': 1, 'lalu': 33, 'buka': 2, 'nyaman': 4, 'ya': 16, 'lupa': 13, 'bersyukur': 7, 'padahal': 9, 'beberapa': 3, 'menit': 2, 'syukur': 1, 'membuatmu': 8, 'mudah': 10, 'apaapa': 13, 'dunia': 9, 'lenyap': 1, 'waktunya': 2, 'berganti': 3, 'abadi': 1, 'setelahnya': 9, 'agaknya': 2, 'seribu': 2, 'tahun': 7, 'dunialah': 1, 'menyamai': 1, 'tempat': 8, 'kehidupan': 7, 'selanjutnya': 6, 'yakin': 9, 'telah': 3, 'beri': 1, 'pilihan': 3, 'bentuk': 3, 'darinya': 2, 'berbahagia': 1, 'melihat': 19, 'hariharimu': 1, 'terlihat': 6, 'lusuh': 1, 'mulai': 12, 'mengasihani': 2, 'sesekali': 10, 'tetaplah': 2, 'usahakan': 2, 'kejar': 1, 'berbaur': 2, 'dengannya': 5, 'bukanlah': 8, 'tubuh': 3, 'berbeda': 10, 'iya': 5, 'nampaknya': 1, 'kata': 7, 'memiliki': 3, 'konotasi': 1, 'buruk': 4, 'telinga': 1, 'berbaik': 1, 'sangka': 1, 'berikan': 4, 'dibaliknya': 1, 'salah': 25, 'memilihnya': 1, 'putus': 4, 'asa': 1, 'terluka': 14, 'mencintainya': 16, 'meski': 21, 'pasti': 13, 'kapan': 9, 'sejauh': 4, 'usahamu': 1, 'memikirkanmu': 2, 'terpikir': 1, 'tentangnya': 2, 'betapa': 6, 'ia': 3, 'melakukan': 9, 'kesalahanmu': 1, 'mungkin': 33, 'baru': 14, 'memahami': 3, 'posisinya': 1, 'hatimu': 13, 'fatamorgana': 1, 'kehidupannya': 1, 'memberikan': 1, 'sebesar': 2, 'memberinya': 3, 'selamanya': 3, 'harap': 3, 'belajar': 1, 'awal': 13, 'cintai': 10, 'hadirnya': 1, 'sisimu': 2, 'suatu': 9, 'peduli': 9, 'senyum': 7, 'suguhkan': 1, 'asli': 1, 'palsu': 1, 'menahan': 3, 'kejenuhannya': 1, 'terhadap': 2, 'sikapmu': 3, 'bersalahnya': 1, 'balas': 2, 'entah': 14, 'sejak': 16, 'bukankah': 8, 'memang': 12, 'jangan': 21, 'salahkan': 1, 'memberimu': 3, 'membuatnya': 2, 'besar': 8, 'sayangnya': 6, 'terkurung': 1, 'dicintainya': 1, 'kamulah': 3, 'orangnya': 3, 'untukku': 4, 'mana': 12, 'diriku': 9, 'kuidamkan': 1, 'nyaris': 1, 'tentangmu': 5, 'jauh': 10, 'kuharapkan': 1, 'temukan': 2, 'ketulusan': 2, 'dinding': 1, 'kubuat': 1, 'kokoh': 1, 'berserakan': 3, 'menginginkan': 3, 'membantuku': 1, 'memaklumi': 1, 'segala': 9, 'kecerobohan': 1, 'sebabkan': 1, 'begitu': 26, 'sabar': 4, 'hingga': 16, 'gadis': 12, 'malang': 1, 'takut': 10, 'mengakuinya': 1, 'ah': 6, 'sudahlah': 4, 'bagiku': 5, 'sulit': 4, 'penglihatanku': 1, 'kabur': 1, 'sebenarnya': 12, 'inginkan': 2, 'biarkan': 5, 'menghentikan': 1, 'menyakitkan': 1, 'meyakinkan': 1, 'berniat': 2, 'sekali': 14, 'berada': 7, 'fase': 2, 'membersihkan': 1, 'berantakan': 3, 'siapalagi': 1, 'kurasakan': 1, 'sendirian': 2, 'kemungkinan': 3, 'merasakan': 7, 'kemustahilan': 1, 'seharusnya': 7, 'memulainya': 2, 'risiko': 1, 'ekstra': 1, 'rencana': 1, 'membawa': 4, 'menggunakannya': 1, 'perlakuanmu': 2, 'tulus': 4, 'karenanya': 7, 'siap': 6, 'sempat': 2, 'menangkapnya': 1, 'sinilah': 1, 'berakhir': 4, 'menata': 1, 'ulang': 5, 'pikiran': 3, 'buat': 2, 'kutinggalkan': 1, 'rumah': 3, 'agak': 1, 'porakporandakan': 1, 'takjub': 1, 'diperlakukan': 1, 'oleh': 5, 'kagum': 2, 'memahamimu': 1, 'minta': 2, 'terpesona': 1, 'menyesalinya': 4, 'ayolah': 3, 'sana': 5, 'kebetulan': 5, 'padanyalah': 1, 'sungguh': 2, 'berhenti': 16, 'menghakimi': 1, 'kehilangan': 4, 'wanitanya': 1, 'berandaiandai': 2, 'nanti': 4, 'jodohnya': 1, 'dialah': 2, 'membawamu': 4, 'berkalikali': 3, 'bawakan': 1, 'pula': 13, 'lewat': 6, 'sangkasangka': 1, 'berhentilah': 2, 'bertukar': 3, 'sapa': 1, 'akal': 1, 'sehat': 1, 'meninggalkanmu': 2, 'pantas': 2, 'menerima': 3, 'sepenuh': 1, 'mengatakan': 6, 'sekalipun': 5, 'secara': 3, 'langsung': 3, 'mengatakannya': 2, 'menyesal': 3, 'menyesali': 3, 'kenyataan': 3, 'menemukan': 6, 'niat': 2, 'permainkan': 1, 'seseorang': 6, 'memilikinya': 2, 'mendapati': 4, 'itulah': 4, 'mendampingimu': 1, 'dilakukan': 1, 'kebanyakan': 2, 'mengajarkanmu': 1, 'bukannya': 7, 'kecewa': 6, 'kurang': 2, 'mengiyakan': 4, 'diluruskan': 1, 'menjaga': 1, 'perasaanmu': 1, 'teliti': 2, 'mengambil': 1, 'langkah': 4, 'penuh': 8, 'hatihati': 1, 'cemburu': 2, 'berkomitmen': 1, 'baikmu': 1, 'merebutnya': 1, 'darimu': 3, 'maka': 12, 'akrab': 1, 'bersamanya': 3, 'paham': 3, 'hubungan': 3, 'kalian': 5, 'terancam': 1, 'berteman': 1, 'siapapun': 4, 'bersenangsenang': 1, 'memperhatikanmu': 1, 'halhal': 5, 'kecil': 3, 'umumnya': 1, 'terabaikan': 1, 'sukanya': 1, 'berlebihan': 5, 'satunya': 1, 'boleh': 2, 'kukatakan': 2, 'semuanya': 10, 'seolah': 2, 'ketimbang': 4, 'malah': 4, 'menganggapnya': 2, 'perhatian': 2, 'pengecualian': 1, 'percayalah': 1, 'sempurna': 1, 'sebagaimana': 1, 'lusa': 1, 'masa': 17, 'depan': 10, 'jaga': 2, 'berlalu': 7, 'memilihmu': 1, 'pendamping': 1, 'setidaknya': 3, 'seumur': 1, 'hidupnya': 3, 'ingat': 8, 'saatsaat': 1, 'bersebelahan': 1, 'antusias': 1, 'menceritakan': 3, 'setulus': 2, 'hatinya': 5, 'karuannya': 2, 'rambutmu': 3, 'berpapasan': 1, 'tengah': 3, 'manisnya': 2, 'senyummu': 3, 'lupakan': 3, 'pendampingmu': 1, 'seberuntung': 1, 'mati': 6, 'temanteman': 1, 'periang': 1, 'tertawa': 6, 'bermain': 2, 'ke': 32, 'berprestasi': 1, 'kami': 2, 'melihatnya': 3, 'bersedih': 6, 'perasaannya': 1, 'nyata': 4, 'bertepuk': 4, 'sebelah': 6, 'kemudian': 18, 'penyesalan': 1, 'mengerti': 2, 'menderita': 1, 'membuka': 4, 'dirinya': 1, 'berpisah': 2, 'mendengar': 9, 'berita': 3, 'duka': 2, 'tiada': 4, 'alami': 1, 'posisi': 10, 'bedanya': 1, 'sisinya': 2, 'kuakui': 1, 'sisa': 1, 'akhir': 4, 'didampingi': 1, 'menggenggam': 3, 'tanganmu': 8, 'terakhir': 5, 'sukai': 2, 'mengantarkanmu': 1, 'surga': 1, 'sebegitu': 4, 'tulusnya': 1, 'berkatmu': 1, 'kenangan': 3, 'kuhapus': 1, 'memulai': 5, 'kau': 51, 'hadir': 4, 'bertanya': 6, 'mencoba': 4, 'sekuat': 3, 'jua': 1, 'melupa': 11, 'usia': 1, 'semakin': 12, 'tua': 1, 'tempatmu': 2, 'memori': 3, 'menunjukkanku': 1, 'mengajarkanku': 1, 'berharganya': 1, 'menunggu': 1, 'mengingatkanku': 2, 'miliki': 1, 'kupikir': 5, 'mempertemukan': 1, 'dasar': 2, 'menumbuhkan': 1, 'ketidaksengajaan': 1, 'mainmain': 1, 'memutuskan': 2, 'saling': 12, 'siasia': 2, 'pertemuan': 4, 'perpisahan': 2, 'mengikutinya': 1, 'caraku': 1, 'luka': 5, 'ciptaan': 1, 'mendapatkan': 3, 'daripada': 5, 'kan': 11, 'bermaksud': 1, 'berbuat': 6, 'noda': 1, 'marah': 6, 'menangis': 5, 'memohon': 1, 'sedih': 2, 'menghibur': 1, 'ikut': 7, 'tersinggung': 1, 'membebaninya': 1, 'menolak': 3, 'menawarkan': 1, 'membelikanmu': 1, 'sepertinya': 3, 'begini': 1, 'pikirkan': 6, 'bersikap': 2, 'berhatihati': 1, 'tawarannya': 1, 'sanggup': 5, 'mengalah': 1, 'sayangmu': 1, 'menunggunya': 1, 'kehilangannya': 1, 'lagipula': 7, 'menyayangimu': 2, 'memarahimu': 1, 'bersamamu': 3, 'inginnya': 2, 'tidakkah': 1, 'melalui': 1, 'mengalahlah': 1, 'bersabarlah': 1, 'selagi': 1, 'artinya': 1, 'keadaanlah': 1, 'kubilang': 2, 'menyukaimu': 1, 'dekatmu': 1, 'tidaknya': 1, 'permasalahkan': 1, 'memangnya': 4, 'posisimu': 2, 'sepeduli': 1, 'kutemui': 1, 'berlanjut': 1, 'pertemuanpertemuan': 1, 'disengaja': 1, 'takdir': 1, 'mengaturnya': 1, 'menggetarkannya': 1, 'meminta': 7, 'selepaslepasnya': 1, 'sebab': 4, 'perbandingan': 2, 'semanis': 2, 'temui': 3, 'tanggapi': 1, 'abaikan': 1, 'titik': 4, 'sore': 1, 'tadi': 17, 'kabarnya': 1, 'takutkan': 1, 'terjadi': 18, 'membandingkan': 2, 'lainnya': 4, 'bawah': 3, 'menjalani': 2, 'hidupku': 6, 'sepenuhpenuhnya': 1, 'menempuh': 1, 'jarak': 11, 'secepat': 2, 'bagaimanapun': 2, 'manusia': 5, 'kekurangannya': 1, 'mimpi': 4, 'semalam': 2, 'bernyawa': 1, 'kehendaki': 1, 'ataupun': 1, 'semenarik': 1, 'kusesali': 1, 'dilihat': 2, 'cermin': 3, 'mari': 10, 'neraka': 2, 'berat': 5, 'orangorang': 17, 'kusayangi': 2, 'ataukah': 3, 'keadaannya': 1, 'kumau': 1, 'kudapat': 1, 'hak': 1, 'mengeluhkan': 1, 'kusayang': 5, 'menggambarkan': 1, 'lukanya': 2, 'selesai': 4, 'seberantakan': 1, 'alihalih': 3, 'pribadi': 1, 'hadapanku': 5, 'penyembuh': 1, 'kondisi': 1, 'dideskripsikan': 1, 'muak': 1, 'digambarkan': 1, 'kekecewaan': 1, 'dibicarakan': 1, 'sekuatkuatnya': 1, 'henti': 5, 'menimpa': 1, 'menyudahi': 1, 'bahagiakan': 1, 'sembuhkan': 1, 'perbaiki': 1, 'bantu': 1, 'mencapai': 2, 'mimpinya': 1, 'sampainya': 2, 'tegapnya': 1, 'berdiri': 4, 'kemampuanku': 1, 'berkat': 1, 'dorongan': 2, 'sumber': 2, 'kebahagiaan': 4, 'bagi': 4, 'kutengok': 1, 'sejenak': 2, 'lemah': 1, 'menyerah': 2, 'bangga': 3, 'berlaku': 1, 'egois': 1, 'kebahagiaanku': 1, 'kupikirpikir': 1, 'disebut': 1, 'keadaan': 1, 'kuputuskan': 3, 'dibandingkan': 3, 'kulakukan': 5, 'sakitnya': 2, 'melainkan': 2, 'menuju': 3, 'sesungguhnya': 2, 'menantikan': 1, 'sekaligus': 3, 'mengingat': 2, 'kutempuh': 1, 'nikmati': 1, 'sajalah': 1, 'prosesnya': 1, 'berdarahdarah': 1, 'sengsara': 2, 'kelak': 1, 'demi': 1, 'kutahan': 1, 'kuat': 3, 'ingatlah': 2, 'milik': 2, 'sematamata': 1, 'kemampuan': 1, 'ucapan': 3, 'bantuan': 1, 'doa': 2, 'mendoakan': 1, 'kebaikan': 2, 'semudah': 2, 'saatnya': 2, 'pantulan': 1, 'bertahan': 4, 'detik': 1, 'tersenyumlah': 2, 'ambisi': 10, 'berbedabeda': 1, 'kecilnya': 1, 'keinginan': 4, 'skala': 1, 'bakunya': 1, 'diabaikan': 2, 'dikejarkejar': 1, 'sebagian': 3, 'berharga': 1, 'sebaliknya': 3, 'sibuk': 4, 'masingmasing': 1, 'seringkali': 2, 'dibalik': 2, 'banyaknya': 1, 'membuta': 1, 'membisu': 1, 'ambisiambisi': 1, 'disyukuri': 1, 'sudahkah': 2, 'lumrah': 1, 'puas': 2, 'hayatnya': 1, 'kehadirannya': 2, 'baiknya': 1, 'tuannya': 1, 'menentukan': 2, 'membawanya': 2, 'kemana': 11, 'menyibukkannya': 1, 'mengingatkannya': 1, 'genggam': 6, 'tabungan': 1, 'soal': 1, 'perbedaan': 1, 'sibukkan': 1, 'dalamnya': 4, 'menjamin': 1, 'dihidupkan': 1, 'pilih': 2, 'ambisimu': 1, 'kesibukanmu': 2, 'tuju': 2, 'bergantung': 1, 'prioritaskan': 1, 'teringat': 2, 'mengenalmu': 1, 'buah': 1, 'lagu': 6, 'ingatanku': 1, 'tawamu': 3, 'debaran': 1, 'jantungku': 1, 'melaju': 2, 'karenamu': 2, 'benarbenar': 7, 'dikatakan': 1, 'kadang': 1, 'penasaran': 3, 'menyukaiku': 1, 'mengagumiku': 1, 'sampingku': 3, 'butuh': 5, 'kuungkapkan': 1, 'sebut': 1, 'berdua': 1, 'pihak': 1, 'samasama': 3, 'memendam': 1, 'benda': 1, 'suka': 8, 'foto': 3, 'wajah': 7, 'termanismu': 1, 'sekian': 3, 'sebelum': 7, 'menutup': 2, 'mengapa': 1, 'dilupa': 1, 'milikku': 1, 'terlarang': 1, 'bergerak': 2, 'berlawanan': 1, 'mengulang': 1, 'perlahan': 3, 'menjauh': 2, 'muda': 1, 'cepat': 5, 'memupuk': 1, 'tergesagesa': 1, 'memintamu': 2, 'sepakat': 1, 'rasaku': 4, 'berubah': 18, 'kulanjutkan': 1, 'lakukan': 12, 'kutemukan': 2, 'berkurang': 1, 'prioritas': 1, 'andai': 4, 'menganggap': 2, 'akankah': 3, 'melakukannya': 5, 'nyatanya': 4, 'melupakanmu': 1, 'tiap': 8, 'bertanyatanya': 3, 'nantinya': 2, 'pemilik': 1, 'panggung': 5, 'sandiwara': 1, 'berpurapura': 4, 'merusak': 1, 'tetapi': 4, 'purapura': 5, 'peka': 2, 'berduka': 1, 'hampir': 2, 'gila': 6, 'asalkan': 1, 'menyakiti': 1, 'saya': 2, 'menjadikan': 2, 'menjadikanmu': 1, 'mencegah': 2, 'penuhi': 1, 'mataku': 4, 'inilah': 1, 'tampak': 8, 'biar': 1, 'mengagumimu': 1, 'acuh': 1, 'kagumnya': 1, 'disimpan': 1, 'siang': 2, 'terik': 1, 'rumahnya': 1, 'perjalanan': 4, 'dua': 6, 'lelaki': 11, 'berbicara': 2, 'serius': 1, 'pinggir': 1, 'terdiam': 2, 'menarik': 5, 'pandangannya': 1, 'kedua': 1, 'menyadari': 5, 'berbalik': 1, 'badan': 4, 'sopan': 3, 'mbanya': 1, 'silakan': 1, 'mba': 1, 'katanya': 2, 'sambil': 10, 'memosisikan': 1, 'memberi': 2, 'diperhatikannya': 1, 'tertangkap': 1, 'basah': 1, 'menganggukkan': 1, 'kepalanya': 1, 'pulangnya': 1, 'tertinggal': 2, 'beranjak': 1, 'tepatnya': 2, 'dikaguminya': 1, 'demikian': 1, 'senang': 3, 'senyuman': 3, 'karuan': 4, 'pengagum': 1, 'rahasia': 1, 'sehari': 3, 'memberikannya': 1, 'kalimat': 4, 'mempersilakannya': 1, 'menyendiri': 1, 'mengenalinya': 1, 'memicunya': 1, 'bandara': 1, 'tubuhku': 2, 'tertubruk': 1, 'dadanya': 1, 'datar': 1, 'mendongakkan': 1, 'kepala': 2, 'tangannya': 2, 'cekatan': 1, 'menghalangi': 1, 'pandangan': 2, 'melihatku': 1, 'pastikan': 1, 'terlebih': 2, 'dahulu': 1, 'suaranya': 2, 'terdengar': 7, 'dekat': 2, 'meneguk': 1, 'ludah': 1, 'suara': 6, 'wajahnya': 1, 'hey': 1, 'jawab': 1, 'desaknya': 1, 'menjawab': 2, 'mendorong': 1, 'tubuhnya': 1, 'tenaga': 1, 'terbentang': 2, 'melemparkan': 2, 'mencegatku': 1, 'jawabannya': 2, 'muncul': 2, 'bentakku': 1, 'menghempaskan': 2, 'berlari': 2, 'tunggu': 1, 'menengok': 1, 'belakang': 2, 'memastikan': 4, 'mengikutiku': 1, 'napasku': 1, 'ngosngosan': 1, 'sofa': 1, 'memejamkan': 3, 'membiarkan': 2, 'sialnya': 1, 'penerbanganku': 2, 'jam': 5, 'menghabiskan': 2, 'menarikku': 1, 'belia': 1, 'mengakhiri': 3, 'pihaklah': 1, 'usahaku': 1, 'penjelasan': 2, 'ditinggalkan': 2, 'buruknya': 1, 'membuang': 3, 'napas': 6, 'kasar': 1, 'manis': 2, 'diingat': 1, 'memporakporandakan': 1, 'bangun': 1, 'lubuk': 1, 'sejujurnya': 2, 'tanda': 1, 'tanya': 1, 'jawaban': 2, 'ditolak': 1, 'meninggalkanku': 2, 'bertekad': 1, 'menemuimu': 1, 'pemberitahuan': 1, 'menyangka': 1, 'lamanya': 1, 'berhalusinasi': 1, 'memandangku': 4, 'efek': 1, 'kumohon': 4, 'penerbangan': 1, 'terbang': 4, 'terbangkan': 1, 'indah': 5, 'menemui': 1, 'membalikkan': 4, 'berucap': 1, 'tinggal': 2, 'urusan': 1, 'wajahmu': 5, 'terlintas': 1, 'benakku': 1, 'postingan': 1, 'barumu': 1, 'layar': 2, 'ponselku': 2, 'seketika': 2, 'mengirim': 2, 'bunga': 8, 'alamatku': 1, 'romantis': 1, 'menyukainya': 1, 'maksudku': 1, 'menasihatiku': 1, 'cari': 3, 'bimbang': 1, 'memperlakukanku': 1, 'tulusmu': 1, 'lugu': 1, 'tatapan': 3, 'melupakannya': 1, 'membuangnya': 2, 'ditambah': 1, 'kenanganmu': 1, 'salahmu': 2, 'tuan': 2, 'terbuka': 1, 'bodohnya': 1, 'ukuran': 1, 'menolakmu': 2, 'begitulah': 1, 'barubaru': 1, 'kudengar': 4, 'belahan': 1, 'sahabat': 2, 'girang': 1, 'mendengarnya': 1, 'bahagianya': 1, 'sebaiknya': 2, 'menunjukkan': 1, 'berupa': 1, 'kesalahan': 1, 'bodoh': 1, 'menyepelekan': 1, 'perkataanmu': 1, 'menanggalkan': 1, 'status': 1, 'padaku': 8, 'jujur': 1, 'tolong': 1, 'jadikan': 3, 'jalani': 2, 'kumiliki': 1, 'risaukan': 1, 'lari': 1, 'sandungan': 1, 'batu': 3, 'berefek': 1, 'bagimu': 4, 'minyak': 1, 'ditumpahkan': 1, 'api': 2, 'menyala': 2, 'menyikapimu': 1, 'setenang': 1, 'kujaga': 1, 'air': 2, 'mukaku': 1, 'kulihat': 3, 'gagal': 6, 'memanglah': 1, 'dilupakan': 2, 'pengkhianatan': 2, 'berjuang': 3, 'pedihnya': 1, 'ditusuk': 1, 'patah': 4, 'berulangulang': 3, 'mempertahankan': 1, 'bahagiamu': 3, 'menyembuhkan': 2, 'belaka': 1, 'usaha': 1, 'bertahun': 1, 'tertutup': 2, 'mengeluh': 2, 'kerjakan': 1, 'upaya': 1, 'kupunya': 1, 'sedikitpun': 1, 'masalah': 2, 'harusnya': 2, 'bagaikan': 1, 'hujan': 2, 'menghapus': 1, 'kemarau': 1, 'setahun': 3, 'sisi': 1, 'berpuluh': 1, 'dikhianati': 1, 'kepercayaannya': 1, 'kuharap': 2, 'kebaikanku': 1, 'kebodohanku': 1, 'memikirkannya': 1, 'lukamu': 1, 'akulah': 1, 'saksi': 1, 'matanya': 1, 'buatmu': 1, 'kepercayaan': 1, 'pegang': 2, 'menaruh': 1, 'hiduplah': 2, 'melebihi': 1, 'mengakui': 1, 'kosong': 4, 'hilang': 5, 'rumit': 1, 'belakangan': 1, 'rasakan': 1, 'susah': 1, 'termakan': 1, 'ucapanku': 1, 'lantang': 1, 'lengkap': 2, 'ihatlah': 1, 'langit': 4, 'kamar': 3, 'sumpahku': 1, 'terlanggar': 1, 'mudahnya': 1, 'kepalaku': 2, 'kusambungkan': 1, 'kabel': 1, 'earphone': 2, 'ponsel': 3, 'sedari': 6, 'kupegang': 1, 'mengecek': 1, 'sosial': 1, 'mediamu': 1, 'makin': 1, 'kupasang': 1, 'telingaku': 1, 'memutar': 1, 'volume': 1, 'kencang': 1, 'hinggap': 1, 'pikirku': 4, 'kejadian': 3, 'seakan': 1, 'terputar': 1, 'lebar': 1, 'ajakannya': 1, 'makan': 6, 'kursi': 3, 'terdekat': 1, 'restoran': 2, 'terlindung': 1, 'menonton': 1, 'penampilan': 1, 'penyanyi': 2, 'kesukaannya': 1, 'memesan': 1, 'makanan': 2, 'pesanan': 1, 'sembari': 2, 'berbincang': 1, 'lemparkan': 1, 'candaan': 1, 'turut': 1, 'nampak': 1, 'senangnya': 1, 'lampu': 1, 'ruangan': 3, 'remang': 1, 'cahayanya': 1, 'lilinlilin': 1, 'aroma': 1, 'tersusun': 1, 'rapi': 1, 'tepi': 1, 'keheranan': 3, 'restorannya': 1, 'tanyaku': 1, 'sahutan': 1, 'bayanganmu': 1, 'petikan': 1, 'gitar': 1, 'mengejutkanku': 1, 'mencari': 7, 'lantas': 1, 'heran': 1, 'keraguan': 1, 'personil': 1, 'abaaba': 2, 'alunan': 3, 'suaramu': 3, 'seiring': 2, 'terangnya': 1, 'cahaya': 1, 'seisi': 2, 'menikmati': 2, 'makananku': 3, 'mengagumkan': 1, 'nyanyikan': 1, 'seminggu': 2, 'putar': 1, 'tandas': 3, 'menghadap': 3, 'menatapku': 5, 'menggelenggelengkan': 1, 'mimik': 1, 'menakjubkan': 1, 'diiringi': 1, 'riuh': 1, 'tepuk': 1, 'turun': 2, 'mengacakacak': 1, 'puncak': 1, 'membenarkan': 1, 'kerudung': 1, 'miring': 1, 'kanan': 2, 'menatapmu': 1, 'kesal': 2, 'apanya': 2, 'akunya': 1, 'hah': 1, 'pernyataan': 1, 'pertanyaan': 1, 'mengejutkan': 1, 'nanya': 1, 'bolehkan': 1, 'mencerna': 1, 'barusan': 2, 'diamku': 1, 'berjamjam': 1, 'ngerti': 1, 'bakal': 1, 'mengantarku': 1, 'harihari': 1, 'sadari': 2, 'semalaman': 1, 'ingatan': 1, 'titipkan': 1, 'menyusup': 1, 'diamdiam': 3, 'pemiliknya': 1, 'curiga': 1, 'janganjangan': 1, 'terbawa': 1, 'menghindari': 1, 'pembicaraan': 3, 'menyibukkan': 1, 'telepon': 5, 'simpan': 1, 'sebisa': 1, 'kedudukan': 1, 'setara': 1, 'kekaguman': 1, 'mendekat': 3, 'sesibuk': 1, 'meledak': 4, 'sewaktuwaktu': 1, 'bahu': 2, 'perempuan': 1, 'tertabrak': 1, 'bahumu': 1, 'tegap': 2, 'mengaduh': 1, 'maaf': 1, 'meninggalkan': 1, 'kaku': 1, 'sekujur': 1, 'sedekat': 1, 'keesokan': 1, 'seterusnya': 1, 'lewati': 2, 'kataku': 3, 'menyimpan': 2, 'kampus': 1, 'meraba': 1, 'seluruh': 2, 'kantong': 1, 'baju': 1, 'celanaku': 1, 'selepas': 3, 'sarapan': 1, 'tujuan': 1, 'kuabaikan': 1, 'tiba': 3, 'taman': 2, 'hijaunya': 1, 'dedaunan': 2, 'bermekaran': 1, 'berteduh': 1, 'pohon': 2, 'rindang': 1, 'terbakar': 1, 'matahari': 2, 'menebar': 1, 'sinar': 1, 'menghindarkanku': 1, 'bergetar': 2, 'menoleh': 3, 'samping': 1, 'sebelahku': 1, 'diduduki': 1, 'ponselnya': 1, 'matikan': 1, 'menatapnya': 1, 'menyentuhnya': 1, 'makhluk': 3, 'terkejut': 1, 'telunjukku': 1, 'mendarat': 1, 'pipinya': 1, 'pengalih': 1, 'menimbangnimbang': 2, 'kubawa': 2, 'badanku': 1, 'gemetar': 1, 'kiri': 1, 'kuperhatikan': 1, 'hutan': 1, 'kota': 1, 'berlalulalang': 2, 'kuteruskan': 2, 'melangkah': 4, 'definisi': 1, 'ikuti': 1, 'keramaian': 1, 'layaknya': 1, 'mengikuti': 1, 'kemanapun': 2, 'aliran': 1, 'sungai': 1, 'mengeluarkannya': 1, 'oksigen': 1, 'otakku': 1, 'diajak': 1, 'antara': 5, 'arus': 1, 'punggung': 1, 'per': 1, 'tunjukkan': 1, 'kesedihan': 2, 'kehampaan': 1, 'langkahku': 2, 'arah': 2, 'kukenali': 2, 'putuskan': 1, 'senja': 5, 'siapsiapnya': 1, 'tamu': 1, 'kusuguhkan': 1, 'teh': 4, 'katamu': 7, 'kopi': 6, 'dapur': 1, 'membuatkan': 1, 'kesukaanmu': 1, 'sekembalinya': 1, 'teras': 3, 'kusimpan': 2, 'perginya': 1, 'secangkir': 2, 'mengalihkan': 1, 'tanganku': 4, 'cangkir': 2, 'asap': 1, 'mengepul': 1, 'bekas': 1, 'ceritamu': 1, 'bicarakan': 1, 'melekat': 1, 'dilahirkan': 1, 'tumbuh': 1, 'merealisasikan': 1, 'mendekapnya': 1, 'tingkah': 1, 'puluhan': 1, 'pengandaian': 2, 'munculkan': 1, 'tengahtengah': 1, 'sua': 1, 'ekspresi': 1, 'kurasa': 1, 'mirip': 1, 'nestapa': 1, 'menyemangatimu': 1, 'melontarkan': 1, 'membatasi': 1, 'gerak': 3, 'satuduatiga': 1, 'kambing': 1, 'hitamkan': 1, 'melamban': 1, 'menyusun': 1, 'sebenernya': 1, 'bijak': 1, '100': 1, 'ketidakseratuspersenan': 1, 'kesakitan': 1, 'para': 1, 'pencinta': 1, 'kesempurnaan': 1, 'beralasan': 1, 'semangatmu': 2, 'menular': 1, 'semenit': 1, 'sendu': 4, 'pekerjaanku': 1, 'setoples': 1, 'kue': 1, 'rindu': 12, 'menghidupi': 1, 'menjemputku': 1, 'kobarkan': 1, 'berbungabunga': 2, 'memalingkan': 1, 'serupa': 1, 'jamjam': 1, 'berikutnya': 1, 'kesendirian': 1, 'tersayang': 1, 'keenam': 1, 'ketujuh': 1, 'terbiasa': 3, 'menggeleng': 1, 'pelan': 3, 'pisah': 1, 'argh': 1, 'mengacak': 1, 'akhirakhir': 1, 'terurus': 1, 'memanjang': 1, 'tampan': 1, 'sebulan': 1, 'kesepian': 1, 'menyadarkanku': 1, 'kekosongan': 1, 'melengket': 1, 'yasudah': 1, 'maumu': 1, 'disusul': 1, 'terhempas': 1, 'terburuburu': 1, 'kuambil': 1, 'saku': 1, 'kemejaku': 1, 'kubuka': 1, 'bilah': 1, 'pesan': 4, 'kuterima': 1, 'menghubungiku': 1, 'tinggalkan': 1, 'membaca': 1, 'tatapanku': 1, 'dikirim': 1, 'serasi': 1, 'keputusanku': 1, 'rapatrapat': 2, 'sebenarbenarnya': 1, 'menetapkan': 1, 'ketidakpercayaan': 1, 'bikin': 1, 'harapan': 1, 'tajam': 1, 'dijadikan': 2, 'kemarin': 1, 'kehendaknya': 1, 'kesenangan': 1, 'kesusahan': 1, 'maha': 1, 'mengatur': 1, 'aman': 1, 'hadirkan': 1, 'kebodohan': 1, 'ketidakhadirannya': 1, 'kasih': 2, 'hambanya': 3, 'terburuk': 2, 'kepada': 2, 'bosan': 2, 'baginya': 2, 'permintaan': 1, 'sederhana': 2, 'datangkan': 1, 'telapak': 1, 'mengabulkan': 1, 'manja': 1, 'kufur': 1, 'loncatan': 1, 'tingkatan': 1, 'naik': 2, 'terpuruk': 1, 'bersinar': 1, 'ayo': 1, 'bangkit': 2, 'giat': 1, 'rendah': 3, 'dibanding': 1, 'hadapannya': 1, 'iman': 1, 'takwalah': 1, 'juara': 2, 'lahir': 1, 'kitalah': 1, 'sel': 1, 'telur': 1, 'ribuan': 2, 'sperma': 1, 'merendah': 2, 'memberitahumu': 1, 'sesuatunya': 1, 'memegang': 5, 'bak': 1, 'nahkoda': 1, 'khawatirkan': 1, 'terusmenerus': 2, 'merutuki': 1, 'hadapan': 2, 'kaca': 1, 'mmelupa': 1, 'kunci': 1, 'redup': 1, 'zaman': 1, 'apalagi': 1, 'era': 1, 'pendapat': 1, 'diungkapkan': 1, 'seleluasa': 1, 'tidaklah': 3, 'tuli': 6, 'menjadilah': 4, 'hujatan': 1, 'ditujukan': 1, 'benci': 1, 'hobinya': 1, 'mencegahmu': 1, 'tugas': 1, 'berkembang': 2, 'komentar': 1, 'negatif': 1, 'lihatlah': 3, 'sampingmu': 1, 'syukuri': 1, 'teruslah': 2, 'dilempar': 1, 'cemoohan': 1, 'selemah': 1, 'hebat': 2, 'tinggi': 7, 'angin': 2, 'menerpanya': 1, 'berisik': 1, 'suarasuara': 1, 'penggosip': 1, 'segerombolan': 1, 'menilaimu': 1, 'cerita': 2, 'ambil': 1, 'pusing': 1, 'beritahu': 1, 'ocehan': 1, 'mengusik': 2, 'barang': 2, 'tempatnya': 1, 'khilaf': 1, 'temantemanmu': 1, 'menegurmu': 1, 'pandai': 2, 'membedakan': 2, 'peran': 1, 'tentulah': 1, 'cerdas': 1, 'keren': 1, 'dont': 1, 'let': 1, 'other': 1, 'people': 1, 'tell': 1, 'you': 1, 'what': 1, 'to': 1, 'feel': 1, 'menunda': 1, 'berjumpa': 2, 'kesekian': 1, 'kalinya': 1, 'kayaknya': 1, 'berulang': 1, 'bertatap': 1, 'muka': 1, 'huh': 1, 'temu': 1, 'bahuku': 2, 'kulit': 1, 'alismu': 2, 'berkerut': 1, 'menopang': 1, 'dagu': 2, 'depanmu': 1, 'pameran': 1, 'sesi': 1, 'penilaian': 1, 'kok': 1, 'mengendikkan': 1, 'mengawali': 1, 'temanku': 1, 'kesanakemari': 1, 'terpisah': 1, 'rentang': 1, 'menguras': 1, 'maklum': 1, 'perubahan': 1, 'kedepan': 1, 'kalimatmu': 1, 'menghentikanmu': 1, 'kegiatan': 1, 'menyebalkan': 2, 'jadinya': 1, 'ucapku': 1, 'melahap': 1, 'raut': 1, 'habis': 1, 'kuberanikan': 1, 'arahmu': 1, 'kerut': 2, 'gantinya': 1, 'gelisah': 2, 'canggung': 1, 'berminat': 1, 'kelakuanmu': 1, 'menggila': 1, 'berhitung': 1, 'tiga': 1, 'astaga': 1, 'aduh': 1, 'kebelet': 1, 'mencegat': 1, 'tanyamu': 1, 'toilet': 4, 'jawabku': 1, 'singkat': 1, 'meja': 1, 'aneh': 1, 'kulirik': 1, 'arloji': 1, 'mengajakmu': 1, 'menyentuh': 1, 'makananmu': 1, 'keluar': 1, 'bertingkah': 1, 'dahi': 1, 'topangan': 1, 'tegak': 1, 'kursimu': 1, 'ramah': 1, 'piring': 1, 'makanmu': 1, 'dugaanku': 1, 'meleset': 1, 'rupanya': 1, 'memperhatikan': 1, 'berkata': 1, 'spontan': 1, 'alisku': 1, 'menaik': 1, 'melempar': 2, 'mengangguk': 1, 'mengabaikan': 1, 'fakta': 1, 'menunduk': 1, 'cantik': 1, 'terhenti': 1, 'kupastikan': 1, 'rasamu': 2, 'gundah': 1, 'gulana': 1, 'peringatan': 1, 'masuk': 1, 'dada': 2, 'mengobrakabrik': 1, 'brankas': 1, 'ketegaran': 1, 'jiwa': 1, 'sepatah': 1, 'diammu': 1, 'berjalannya': 2, 'roda': 1, 'usaikanlah': 1, 'sesak': 1, 'menikam': 1, 'pujangga': 1, 'penyair': 1, 'tersohor': 1, 'namanya': 1, 'memujamu': 1, 'menujukan': 1, 'doaku': 2, 'memelukmu': 1, 'kalbu': 1, 'memelukku': 1, 'merindumu': 1, 'buta': 1, 'sebenarbenar': 2, 'kuberikan': 1, 'segelas': 1, 'semangkuk': 1, 'gelap': 1, 'menari': 3, 'lantai': 1, 'lirih': 1, 'pengiring': 1, 'pilu': 2, 'tariku': 1, 'berbunyi': 1, 'kelam': 1, 'pasangan': 1, 'pegangan': 2, 'gerakku': 1, 'lepas': 1, 'berbatas': 1, 'ritmeku': 1, 'berbias': 1, 'sepi': 1, 'nada': 1, 'gantung': 1, 'tinggitinggi': 1, 'atap': 1, 'pandangi': 1, 'terwujud': 1, 'raih': 1, 'burung': 2, 'bebas': 1, 'nerakamu': 1, 'menargetkan': 1, 'batasan': 1, 'kemampuanmu': 2, 'nasihat': 1, 'naif': 1, 'atur': 1, 'mimpimu': 1, 'mewujudkan': 1, 'mimpimimpi': 1, 'setitik': 1, 'terbayang': 1, 'guru': 1, 'sekolahmu': 1, 'bermimpi': 1, 'setinggi': 1, 'beliau': 1, 'mengingatkan': 1, 'citacitakan': 1, 'murung': 1, 'mendapat': 2, 'idamkan': 1, 'pasang': 1, 'realistis': 1, 'jikalau': 1, 'targetmu': 1, 'hidupilah': 1, 'berlangsung': 1, 'sepasrah': 1, 'menggebugebu': 1, 'berapa': 3, 'menimpamu': 1, 'kemurungan': 1, 'berbahagialah': 1, 'tentukan': 1, 'angan': 1, 'perjuangkan': 2, 'berkurung': 1, 'tercipta': 2, 'sadarlah': 1, 'dapatkan': 1, 'mendoakanmu': 1, 'berkah': 1, 'insan': 2, 'ciptakan': 1, 'memperoleh': 1, 'kebenaran': 1, 'melupakan': 1, 'ujian': 1, 'dipisahkan': 1, 'melewati': 1, 'cobaan': 2, 'berharihari': 1, 'lambaian': 1, 'sapaan': 1, 'menyapa': 1, 'teriakan': 1, 'menyemangati': 1, 'senyumlah': 1, 'kejam': 1, 'terbungkam': 1, 'menghadapi': 1, 'tegar': 1, 'diterpa': 1, 'berbagai': 1, 'berbagi': 1, 'mengherankan': 1, 'rindukan': 3, 'tepukan': 1, 'memberitahukannya': 1, 'berbaring': 1, 'bibir': 1, 'pantai': 1, 'punggungmu': 2, 'bersandar': 1, 'degup': 1, 'jantungmu': 1, 'merdu': 1, 'pelengkap': 1, 'pahit': 1, 'kisahmu': 1, 'menggema': 1, 'rata': 1, 'kisah': 2, 'lautan': 1, 'pepasiran': 1, 'genggaman': 1, 'berbatu': 1, 'menanjak': 1, 'berarah': 1, 'janji': 1, 'sabarlah': 1, 'sepoi': 1, 'halangan': 1, 'menunggulah': 1, 'melawan': 1, 'berjanji': 4, 'melepaskan': 1, 'membawaku': 3, 'perih': 1, 'melepas': 1, 'erat': 1, 'kuasa': 1, 'terhadapku': 1, 'terlepas': 1, 'janjiku': 2, 'terjaga': 1, 'menghilangkan': 1, 'sebabnya': 1, 'berpaling': 1, 'keduanya': 1, 'dapat': 1, 'tujuannya': 1, 'mengobati': 1}\n"
          ]
        }
      ]
    },
    {
      "cell_type": "markdown",
      "source": [
        "Now I will check every word with the affix '-mu', '-ku', and 'ku-' that needs to be set as an exception."
      ],
      "metadata": {
        "id": "mCaFF21GL1J5"
      }
    },
    {
      "cell_type": "code",
      "source": [
        "# word + '-mu'\n",
        "suffix_mu = [key for key, value in word_counts.items() if key.endswith('mu')]\n",
        "print(suffix_mu)\n",
        "\n",
        "# exception:\n",
        "# kamu, bertemu, tamu, temu"
      ],
      "metadata": {
        "colab": {
          "base_uri": "https://localhost:8080/"
        },
        "id": "NVMopt2_Mk1l",
        "outputId": "9792a418-6ce2-4583-d79c-6aa1cf88a920"
      },
      "execution_count": 53,
      "outputs": [
        {
          "output_type": "stream",
          "name": "stdout",
          "text": [
            "['mencintaimu', 'memilikimu', 'kamu', 'hidupmu', 'denganmu', 'ramahmu', 'sosokmu', 'melihatmu', 'menyapamu', 'padamu', 'bertemu', 'untukmu', 'dirimu', 'hadirmu', 'matamu', 'membuatmu', 'hariharimu', 'usahamu', 'memikirkanmu', 'kesalahanmu', 'hatimu', 'sisimu', 'sikapmu', 'memberimu', 'tentangmu', 'perlakuanmu', 'memahamimu', 'membawamu', 'meninggalkanmu', 'mendampingimu', 'mengajarkanmu', 'perasaanmu', 'baikmu', 'darimu', 'memperhatikanmu', 'memilihmu', 'rambutmu', 'senyummu', 'pendampingmu', 'tanganmu', 'mengantarkanmu', 'berkatmu', 'tempatmu', 'membelikanmu', 'sayangmu', 'menyayangimu', 'memarahimu', 'bersamamu', 'menyukaimu', 'dekatmu', 'posisimu', 'ambisimu', 'kesibukanmu', 'mengenalmu', 'tawamu', 'karenamu', 'termanismu', 'memintamu', 'melupakanmu', 'menjadikanmu', 'mengagumimu', 'menemuimu', 'wajahmu', 'barumu', 'tulusmu', 'kenanganmu', 'salahmu', 'menolakmu', 'perkataanmu', 'bagimu', 'menyikapimu', 'bahagiamu', 'lukamu', 'buatmu', 'mediamu', 'bayanganmu', 'suaramu', 'menatapmu', 'bahumu', 'tamu', 'katamu', 'kesukaanmu', 'ceritamu', 'menyemangatimu', 'semangatmu', 'maumu', 'memberitahumu', 'mencegahmu', 'sampingmu', 'menilaimu', 'temantemanmu', 'menegurmu', 'temu', 'alismu', 'depanmu', 'kalimatmu', 'menghentikanmu', 'arahmu', 'kelakuanmu', 'tanyamu', 'mengajakmu', 'makananmu', 'kursimu', 'makanmu', 'rasamu', 'diammu', 'memujamu', 'memelukmu', 'merindumu', 'nerakamu', 'kemampuanmu', 'mimpimu', 'sekolahmu', 'targetmu', 'menimpamu', 'mendoakanmu', 'punggungmu', 'jantungmu', 'kisahmu']\n"
          ]
        }
      ]
    },
    {
      "cell_type": "code",
      "source": [
        "# word + '-ku'\n",
        "suffix_ku = [key for key, value in word_counts.items() if key.endswith('ku')]\n",
        "print(suffix_ku)\n",
        "\n",
        "# exception:\n",
        "# aku, berlaku, kaku, saku"
      ],
      "metadata": {
        "colab": {
          "base_uri": "https://localhost:8080/"
        },
        "id": "6wNwpU3iNt_4",
        "outputId": "698bd32a-3233-4f74-e358-72ba83f9c617"
      },
      "execution_count": 54,
      "outputs": [
        {
          "output_type": "stream",
          "name": "stdout",
          "text": [
            "['aku', 'mencintaiku', 'kuasaku', 'menolakku', 'membuatku', 'pikiranku', 'hatiku', 'menyapaku', 'protesku', 'raguku', 'hariku', 'duniaku', 'tulisku', 'untukku', 'diriku', 'membantuku', 'bagiku', 'penglihatanku', 'menunjukkanku', 'mengajarkanku', 'mengingatkanku', 'caraku', 'hidupku', 'hadapanku', 'kemampuanku', 'berlaku', 'kebahagiaanku', 'ingatanku', 'jantungku', 'menyukaiku', 'mengagumiku', 'sampingku', 'milikku', 'rasaku', 'mataku', 'tubuhku', 'melihatku', 'mencegatku', 'bentakku', 'mengikutiku', 'napasku', 'penerbanganku', 'menarikku', 'usahaku', 'meninggalkanku', 'memandangku', 'benakku', 'ponselku', 'alamatku', 'maksudku', 'menasihatiku', 'memperlakukanku', 'padaku', 'mukaku', 'kebaikanku', 'kebodohanku', 'ucapanku', 'sumpahku', 'kepalaku', 'telingaku', 'pikirku', 'tanyaku', 'mengejutkanku', 'makananku', 'menatapku', 'diamku', 'mengantarku', 'kaku', 'kataku', 'celanaku', 'menghindarkanku', 'sebelahku', 'telunjukku', 'badanku', 'otakku', 'langkahku', 'tanganku', 'pekerjaanku', 'menjemputku', 'menyadarkanku', 'saku', 'kemejaku', 'menghubungiku', 'tatapanku', 'keputusanku', 'bahuku', 'temanku', 'ucapku', 'jawabku', 'dugaanku', 'alisku', 'doaku', 'memelukku', 'tariku', 'gerakku', 'ritmeku', 'membawaku', 'terhadapku', 'janjiku']\n"
          ]
        }
      ]
    },
    {
      "cell_type": "code",
      "source": [
        "# 'ku-' + word\n",
        "prefix_ku = [key for key, value in word_counts.items() if key.startswith('ku')]\n",
        "print(prefix_ku)\n",
        "\n",
        "# exception:\n",
        "# kuasaku, kuliah, kurang, kuat, kursi, kue, kufur, kunci, kulit, kuasa, kursimu\n",
        "# kuasaku == kuasa + aku\n",
        "# kursimu == kursi + kamu\n",
        "# FINAL EXCEPTION ===>> kuasa, kuliah, kurang, kuat, kursi, kue, kufur, kunci, kulit"
      ],
      "metadata": {
        "colab": {
          "base_uri": "https://localhost:8080/"
        },
        "id": "_h-gfvzSOS-W",
        "outputId": "7c3644df-b472-4909-d41c-4f40eae8a3e3"
      },
      "execution_count": 55,
      "outputs": [
        {
          "output_type": "stream",
          "name": "stdout",
          "text": [
            "['kuasaku', 'kunyatakan', 'kuanggap', 'kulalui', 'kuliah', 'kuidamkan', 'kuharapkan', 'kubuat', 'kurasakan', 'kutinggalkan', 'kurang', 'kukatakan', 'kuakui', 'kuhapus', 'kupikir', 'kubilang', 'kutemui', 'kusesali', 'kusayangi', 'kumau', 'kudapat', 'kusayang', 'kutengok', 'kupikirpikir', 'kuputuskan', 'kulakukan', 'kutempuh', 'kutahan', 'kuat', 'kuungkapkan', 'kulanjutkan', 'kutemukan', 'kumohon', 'kudengar', 'kumiliki', 'kujaga', 'kulihat', 'kupunya', 'kuharap', 'kusambungkan', 'kupegang', 'kupasang', 'kursi', 'kuabaikan', 'kubawa', 'kuperhatikan', 'kuteruskan', 'kukenali', 'kusuguhkan', 'kusimpan', 'kurasa', 'kue', 'kuambil', 'kubuka', 'kuterima', 'kufur', 'kunci', 'kulit', 'kuberanikan', 'kulirik', 'kursimu', 'kupastikan', 'kuberikan', 'kuasa']\n"
          ]
        }
      ]
    },
    {
      "cell_type": "markdown",
      "source": [
        "I would save those words on separate lists now that I am aware of this."
      ],
      "metadata": {
        "id": "VdRpXM0Kotsi"
      }
    },
    {
      "cell_type": "code",
      "source": [
        "not_suffix_mu = [\"kamu\", \"bertemu\", \"tamu\", \"temu\"]\n",
        "not_suffix_ku = [\"aku\", \"berlaku\", \"kaku\", \"saku\"]\n",
        "not_prefix_ku = [\"kuasa\", \"kuliah\", \"kurang\", \"kuat\", \"kursi\", \"kue\", \"kufur\", \"kunci\", \"kulit\"]"
      ],
      "metadata": {
        "id": "_ugMsSk3VCVh"
      },
      "execution_count": 56,
      "outputs": []
    },
    {
      "cell_type": "markdown",
      "source": [
        "The exception words from the initial affix list will then be removed. Following that, the new lists will be given the names `final_suffix_mu`, `final_suffix_ku`, and `final_prefix_ku`."
      ],
      "metadata": {
        "id": "nZJykgRypTEw"
      }
    },
    {
      "cell_type": "code",
      "source": [
        "final_suffix_mu = [word for word in suffix_mu if word not in not_suffix_mu]\n",
        "final_suffix_ku = [word for word in suffix_ku if word not in not_suffix_ku]\n",
        "final_prefix_ku = [word for word in suffix_mu if word not in not_suffix_mu]"
      ],
      "metadata": {
        "id": "7jcGtr1PlYdT"
      },
      "execution_count": 57,
      "outputs": []
    },
    {
      "cell_type": "markdown",
      "source": [
        "I suddenly realize that my inconsistent word usage is another issue I might run into. I use the formal language when writing sometimes, but not always. I can use the words `\"enggak\"`, `\"nggak\"`, `\"tak\"` and `\"gak\"`, which have the same meaning as `\"tidak\"`, for example. It is simply translated as `\"No\"` in English. Another case is the similar meanings of the words `\"tahu\"` and `\"tau\"` in my writing. It's just that I never write about \"tahu\"==tofu, only \"tau\"==\"tahu\". So, I'll start by seeing if there are any of these \"tidak\" and \"tahu\" modifications."
      ],
      "metadata": {
        "id": "2DqVtyZ20dkZ"
      }
    },
    {
      "cell_type": "code",
      "source": [
        "suspect_list = ['enggak', 'nggak', 'tak', 'gak', 'tidak', 'tahu', 'tau']\n",
        "\n",
        "for suspect in suspect_list:\n",
        "  try:\n",
        "    print(f\"\\\"{suspect}\\\" : {word_counts[suspect]} times\")\n",
        "  except:\n",
        "    print(f\"\\\"{suspect}\\\" : 0\")"
      ],
      "metadata": {
        "colab": {
          "base_uri": "https://localhost:8080/"
        },
        "id": "FXY56_nHoDDR",
        "outputId": "f5a6bb1d-7870-41cc-fd47-67100431f048"
      },
      "execution_count": 58,
      "outputs": [
        {
          "output_type": "stream",
          "name": "stdout",
          "text": [
            "\"enggak\" : 0\n",
            "\"nggak\" : 0\n",
            "\"tak\" : 55 times\n",
            "\"gak\" : 15 times\n",
            "\"tidak\" : 267 times\n",
            "\"tahu\" : 53 times\n",
            "\"tau\" : 20 times\n"
          ]
        }
      ]
    },
    {
      "cell_type": "markdown",
      "source": [
        "Okay, now let's define a function `find_most_used_word` that will allow me to find the word that has been used often from the beginning of my blog posts to the most recent post by iterating over the list of words in each row of the dataframe."
      ],
      "metadata": {
        "id": "C25b5qAa9BD7"
      }
    },
    {
      "cell_type": "code",
      "source": [
        "def find_most_used_word(df, column_name):\n",
        "  \"\"\"\n",
        "  This function can be used to determine the word that appears \n",
        "  the most frequently in a dataframe by counting all of its word occurrences.\n",
        "\n",
        "  Input:\n",
        "  - df: a dataframe that we work on\n",
        "  - column_name:  a column name where a list of words exists in each row\n",
        "\n",
        "  Output:\n",
        "  - word_count_record: a dictionary that contains every unique word \n",
        "            and its occurence overall dataframe column\n",
        "  - mostUsedWord: the most frequently used word\n",
        "  - maxCount: how many times the mostUsedWord appears\n",
        "  \"\"\"\n",
        "\n",
        "  # initialize the dictionary of word count record\n",
        "  word_count_record = dict()\n",
        "\n",
        "  # iterate over rows in a dataframe\n",
        "  for index, row in df.iterrows():\n",
        "    # iterate over words in a list of words that exist in the row.\n",
        "    for word in row[column_name]:\n",
        "      # to do when the word exists within the lists\n",
        "      if word in final_suffix_mu:\n",
        "        word_count_record[word[:-2]] = word_count_record.get(word[:-2], 0) + 1\n",
        "        word_count_record[\"kamu\"] = word_count_record.get(\"kamu\", 0) + 1\n",
        "      elif word in final_suffix_ku:\n",
        "        word_count_record[word[:-2]] = word_count_record.get(word[:-2], 0) + 1\n",
        "        word_count_record[\"aku\"] = word_count_record.get(\"aku\", 0) + 1\n",
        "      elif word in final_prefix_ku:\n",
        "        word_count_record[word[2:]] = word_count_record.get(word[2:], 0) + 1\n",
        "        word_count_record[\"aku\"] = word_count_record.get(\"aku\", 0) + 1\n",
        "      # to do when 'tidak' or 'tahu' modifications are found\n",
        "      elif word == 'gak' or word == 'tak':\n",
        "        word_count_record[\"tidak\"] = word_count_record.get(\"tidak\", 0) + 1\n",
        "      elif word == 'tau':\n",
        "        word_count_record[\"tahu\"] = word_count_record.get(\"tahu\", 0) + 1\n",
        "      # to do with the remaining words\n",
        "      else:\n",
        "        word_count_record[word] = word_count_record.get(word, 0) + 1\n",
        "  \n",
        "  # Finding the most frequently used word\n",
        "  mostUsedWord = None\n",
        "  maxCount = None\n",
        "  for word, count in word_count_record.items():\n",
        "    if maxCount==None or count > maxCount:\n",
        "      mostUsedWord = word\n",
        "      maxCount = count\n",
        "\n",
        "  return word_count_record, mostUsedWord, maxCount"
      ],
      "metadata": {
        "id": "ujeDTk4xiBcV"
      },
      "execution_count": 59,
      "outputs": []
    },
    {
      "cell_type": "markdown",
      "source": [
        "Now is the time to find out what the word is that I use so frequently."
      ],
      "metadata": {
        "id": "jVyXkXAu9c6h"
      }
    },
    {
      "cell_type": "code",
      "source": [
        "word_count_dict, word, count = find_most_used_word(df, 'blog_post')\n",
        "print(f\"The most frequently used word is '{word}' with {count} occurrences.\")"
      ],
      "metadata": {
        "colab": {
          "base_uri": "https://localhost:8080/"
        },
        "id": "KuhrZr8VjFU2",
        "outputId": "a6cd5026-121f-4973-b7d8-68fc1d3d81f5"
      },
      "execution_count": 60,
      "outputs": [
        {
          "output_type": "stream",
          "name": "stdout",
          "text": [
            "The most frequently used word is 'aku' with 711 occurrences.\n"
          ]
        }
      ]
    },
    {
      "cell_type": "markdown",
      "source": [
        "Wow. This discovery actually kind of surprised me. Since I always have a thought to write about because of \"you\", I assumed it would be `\"kamu\"` rather than `\"aku.\"`\n",
        "\n",
        "Anyway, in English, `\"aku\"` means \"I\" or \"me,\" while `\"kamu\"` means \"you.\""
      ],
      "metadata": {
        "id": "rPM4q2WS_HLb"
      }
    },
    {
      "cell_type": "markdown",
      "source": [
        "I suppose the `untitledoorseries` category might employ the word `\"kamu\"` more frequently. Let's investigate to find out."
      ],
      "metadata": {
        "id": "ajSPhCmHAXIE"
      }
    },
    {
      "cell_type": "code",
      "source": [
        "catList = list(df['category'].unique())\n",
        "for cat in catList:\n",
        "  dfCat = df.loc[df['category']==cat]\n",
        "  _, mostUsedWord, maxCount = find_most_used_word(dfCat, 'blog_post')\n",
        "  print(f\"The most frequently used word in {cat} category is '{mostUsedWord}' with {maxCount} occurrences.\")"
      ],
      "metadata": {
        "colab": {
          "base_uri": "https://localhost:8080/"
        },
        "id": "CbZ_rOK9ix4l",
        "outputId": "25a93e10-06c4-4f77-ecc1-accbb24fac66"
      },
      "execution_count": 61,
      "outputs": [
        {
          "output_type": "stream",
          "name": "stdout",
          "text": [
            "The most frequently used word in untitledoorseries category is 'aku' with 499 occurrences.\n",
            "The most frequently used word in untuk: aku category is 'yang' with 152 occurrences.\n",
            "The most frequently used word in favorit category is 'aku' with 95 occurrences.\n"
          ]
        }
      ]
    },
    {
      "cell_type": "markdown",
      "source": [
        "Nope! Even in this particular category, I still mention `\"aku\"` a.k.a. myself, a lot. In addition, the word `\"yang\"`, which is merely an auxiliary, is even mentioned the most in `\"untuk:aku\"` category."
      ],
      "metadata": {
        "id": "gC811kEsB2-9"
      }
    },
    {
      "cell_type": "markdown",
      "source": [
        "Lastly, I will look at the top 10 most frequently used words in my blog posts because I'm still curious about how the word `\"you\"` ranks across the board."
      ],
      "metadata": {
        "id": "tqjgDULGDgoW"
      }
    },
    {
      "cell_type": "code",
      "source": [
        "df_word_count = pd.DataFrame.from_dict(word_count_dict, orient='index', columns=['Frequency'])\n",
        "df_word_count_sorted = df_word_count.sort_values('Frequency', ascending=False)\n",
        "df_word_count_sorted.head(10)"
      ],
      "metadata": {
        "id": "ugxPrMHpwcFy",
        "colab": {
          "base_uri": "https://localhost:8080/",
          "height": 363
        },
        "outputId": "26aab276-d277-497b-c2b6-04c5c3680109"
      },
      "execution_count": 62,
      "outputs": [
        {
          "output_type": "execute_result",
          "data": {
            "text/plain": [
              "       Frequency\n",
              "aku          711\n",
              "kamu         627\n",
              "yang         484\n",
              "tidak        337\n",
              "dan          184\n",
              "itu          159\n",
              "di           154\n",
              "kita         139\n",
              "untuk        128\n",
              "dia          119"
            ],
            "text/html": [
              "\n",
              "  <div id=\"df-a5a115e0-c597-4e9e-b69e-c662c4bd75a2\">\n",
              "    <div class=\"colab-df-container\">\n",
              "      <div>\n",
              "<style scoped>\n",
              "    .dataframe tbody tr th:only-of-type {\n",
              "        vertical-align: middle;\n",
              "    }\n",
              "\n",
              "    .dataframe tbody tr th {\n",
              "        vertical-align: top;\n",
              "    }\n",
              "\n",
              "    .dataframe thead th {\n",
              "        text-align: right;\n",
              "    }\n",
              "</style>\n",
              "<table border=\"1\" class=\"dataframe\">\n",
              "  <thead>\n",
              "    <tr style=\"text-align: right;\">\n",
              "      <th></th>\n",
              "      <th>Frequency</th>\n",
              "    </tr>\n",
              "  </thead>\n",
              "  <tbody>\n",
              "    <tr>\n",
              "      <th>aku</th>\n",
              "      <td>711</td>\n",
              "    </tr>\n",
              "    <tr>\n",
              "      <th>kamu</th>\n",
              "      <td>627</td>\n",
              "    </tr>\n",
              "    <tr>\n",
              "      <th>yang</th>\n",
              "      <td>484</td>\n",
              "    </tr>\n",
              "    <tr>\n",
              "      <th>tidak</th>\n",
              "      <td>337</td>\n",
              "    </tr>\n",
              "    <tr>\n",
              "      <th>dan</th>\n",
              "      <td>184</td>\n",
              "    </tr>\n",
              "    <tr>\n",
              "      <th>itu</th>\n",
              "      <td>159</td>\n",
              "    </tr>\n",
              "    <tr>\n",
              "      <th>di</th>\n",
              "      <td>154</td>\n",
              "    </tr>\n",
              "    <tr>\n",
              "      <th>kita</th>\n",
              "      <td>139</td>\n",
              "    </tr>\n",
              "    <tr>\n",
              "      <th>untuk</th>\n",
              "      <td>128</td>\n",
              "    </tr>\n",
              "    <tr>\n",
              "      <th>dia</th>\n",
              "      <td>119</td>\n",
              "    </tr>\n",
              "  </tbody>\n",
              "</table>\n",
              "</div>\n",
              "      <button class=\"colab-df-convert\" onclick=\"convertToInteractive('df-a5a115e0-c597-4e9e-b69e-c662c4bd75a2')\"\n",
              "              title=\"Convert this dataframe to an interactive table.\"\n",
              "              style=\"display:none;\">\n",
              "        \n",
              "  <svg xmlns=\"http://www.w3.org/2000/svg\" height=\"24px\"viewBox=\"0 0 24 24\"\n",
              "       width=\"24px\">\n",
              "    <path d=\"M0 0h24v24H0V0z\" fill=\"none\"/>\n",
              "    <path d=\"M18.56 5.44l.94 2.06.94-2.06 2.06-.94-2.06-.94-.94-2.06-.94 2.06-2.06.94zm-11 1L8.5 8.5l.94-2.06 2.06-.94-2.06-.94L8.5 2.5l-.94 2.06-2.06.94zm10 10l.94 2.06.94-2.06 2.06-.94-2.06-.94-.94-2.06-.94 2.06-2.06.94z\"/><path d=\"M17.41 7.96l-1.37-1.37c-.4-.4-.92-.59-1.43-.59-.52 0-1.04.2-1.43.59L10.3 9.45l-7.72 7.72c-.78.78-.78 2.05 0 2.83L4 21.41c.39.39.9.59 1.41.59.51 0 1.02-.2 1.41-.59l7.78-7.78 2.81-2.81c.8-.78.8-2.07 0-2.86zM5.41 20L4 18.59l7.72-7.72 1.47 1.35L5.41 20z\"/>\n",
              "  </svg>\n",
              "      </button>\n",
              "      \n",
              "  <style>\n",
              "    .colab-df-container {\n",
              "      display:flex;\n",
              "      flex-wrap:wrap;\n",
              "      gap: 12px;\n",
              "    }\n",
              "\n",
              "    .colab-df-convert {\n",
              "      background-color: #E8F0FE;\n",
              "      border: none;\n",
              "      border-radius: 50%;\n",
              "      cursor: pointer;\n",
              "      display: none;\n",
              "      fill: #1967D2;\n",
              "      height: 32px;\n",
              "      padding: 0 0 0 0;\n",
              "      width: 32px;\n",
              "    }\n",
              "\n",
              "    .colab-df-convert:hover {\n",
              "      background-color: #E2EBFA;\n",
              "      box-shadow: 0px 1px 2px rgba(60, 64, 67, 0.3), 0px 1px 3px 1px rgba(60, 64, 67, 0.15);\n",
              "      fill: #174EA6;\n",
              "    }\n",
              "\n",
              "    [theme=dark] .colab-df-convert {\n",
              "      background-color: #3B4455;\n",
              "      fill: #D2E3FC;\n",
              "    }\n",
              "\n",
              "    [theme=dark] .colab-df-convert:hover {\n",
              "      background-color: #434B5C;\n",
              "      box-shadow: 0px 1px 3px 1px rgba(0, 0, 0, 0.15);\n",
              "      filter: drop-shadow(0px 1px 2px rgba(0, 0, 0, 0.3));\n",
              "      fill: #FFFFFF;\n",
              "    }\n",
              "  </style>\n",
              "\n",
              "      <script>\n",
              "        const buttonEl =\n",
              "          document.querySelector('#df-a5a115e0-c597-4e9e-b69e-c662c4bd75a2 button.colab-df-convert');\n",
              "        buttonEl.style.display =\n",
              "          google.colab.kernel.accessAllowed ? 'block' : 'none';\n",
              "\n",
              "        async function convertToInteractive(key) {\n",
              "          const element = document.querySelector('#df-a5a115e0-c597-4e9e-b69e-c662c4bd75a2');\n",
              "          const dataTable =\n",
              "            await google.colab.kernel.invokeFunction('convertToInteractive',\n",
              "                                                     [key], {});\n",
              "          if (!dataTable) return;\n",
              "\n",
              "          const docLinkHtml = 'Like what you see? Visit the ' +\n",
              "            '<a target=\"_blank\" href=https://colab.research.google.com/notebooks/data_table.ipynb>data table notebook</a>'\n",
              "            + ' to learn more about interactive tables.';\n",
              "          element.innerHTML = '';\n",
              "          dataTable['output_type'] = 'display_data';\n",
              "          await google.colab.output.renderOutput(dataTable, element);\n",
              "          const docLink = document.createElement('div');\n",
              "          docLink.innerHTML = docLinkHtml;\n",
              "          element.appendChild(docLink);\n",
              "        }\n",
              "      </script>\n",
              "    </div>\n",
              "  </div>\n",
              "  "
            ]
          },
          "metadata": {},
          "execution_count": 62
        }
      ]
    },
    {
      "cell_type": "markdown",
      "source": [
        "Finally, there you are. The second most frequently used word turns out to be `\"kamu\"`. The words `\"kita\"` (\"we\" in English) and `\"dia\"` (\"he/she\" in English\") appear in the top 10, which I find more intriguing. Amazing! \n",
        "\n",
        "I can now use this interesting insight to publish a new blog article on my website, probably another `untitledoorseries`. After all, that was the original goal of this project."
      ],
      "metadata": {
        "id": "B315ep6bDnIz"
      }
    }
  ]
}
